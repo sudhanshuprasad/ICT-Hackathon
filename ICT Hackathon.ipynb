{
 "cells": [
  {
   "cell_type": "code",
   "execution_count": 1,
   "id": "cee2b447",
   "metadata": {},
   "outputs": [],
   "source": [
    "import pandas\n",
    "from sklearn.linear_model import LinearRegression, ElasticNet, SGDRegressor, BayesianRidge\n",
    "from sklearn.model_selection import train_test_split\n",
    "from sklearn.metrics import accuracy_score\n",
    "from sklearn.ensemble import RandomForestClassifier, RandomForestRegressor, ExtraTreesRegressor, GradientBoostingRegressor\n",
    "from sklearn.svm import SVR\n",
    "# from catboost import CatBoostRegressor\n",
    "from sklearn.kernel_ridge import KernelRidge\n",
    "# from xgboost.sklearn import XGBRegressor\n",
    "# from lightgbm import LGBMRegressor\n",
    "from sklearn.metrics import r2_score"
   ]
  },
  {
   "cell_type": "code",
   "execution_count": 2,
   "id": "0c62ec26",
   "metadata": {},
   "outputs": [
    {
     "data": {
      "text/html": [
       "<div>\n",
       "<style scoped>\n",
       "    .dataframe tbody tr th:only-of-type {\n",
       "        vertical-align: middle;\n",
       "    }\n",
       "\n",
       "    .dataframe tbody tr th {\n",
       "        vertical-align: top;\n",
       "    }\n",
       "\n",
       "    .dataframe thead th {\n",
       "        text-align: right;\n",
       "    }\n",
       "</style>\n",
       "<table border=\"1\" class=\"dataframe\">\n",
       "  <thead>\n",
       "    <tr style=\"text-align: right;\">\n",
       "      <th></th>\n",
       "      <th>Condition No. 1</th>\n",
       "      <th>Condition No. 2</th>\n",
       "      <th>Condition No. 3</th>\n",
       "      <th>Condition No. 4</th>\n",
       "      <th>Condition No. 5</th>\n",
       "      <th>Condition No. 6</th>\n",
       "      <th>Condition No. 7</th>\n",
       "      <th>Condition No. 8</th>\n",
       "      <th>Condition No. 9</th>\n",
       "      <th>Condition No. 10</th>\n",
       "      <th>...</th>\n",
       "      <th>Condition No. 25</th>\n",
       "      <th>Condition No. 26</th>\n",
       "      <th>Condition No. 27</th>\n",
       "      <th>Condition No. 28</th>\n",
       "      <th>Condition No. 29</th>\n",
       "      <th>Condition No. 37</th>\n",
       "      <th>Condition No. 35</th>\n",
       "      <th>Condition No. 41</th>\n",
       "      <th>Condition No. 42</th>\n",
       "      <th>Targetted Condition No. 1</th>\n",
       "    </tr>\n",
       "  </thead>\n",
       "  <tbody>\n",
       "    <tr>\n",
       "      <th>0</th>\n",
       "      <td>3687.5</td>\n",
       "      <td>4510.6</td>\n",
       "      <td>9.3160</td>\n",
       "      <td>26.734</td>\n",
       "      <td>42.511</td>\n",
       "      <td>74.935</td>\n",
       "      <td>120.42</td>\n",
       "      <td>0.33407</td>\n",
       "      <td>80.345</td>\n",
       "      <td>24.203</td>\n",
       "      <td>...</td>\n",
       "      <td>4.9187</td>\n",
       "      <td>2.3120</td>\n",
       "      <td>0.018975</td>\n",
       "      <td>0.84982</td>\n",
       "      <td>0.107870</td>\n",
       "      <td>53.729</td>\n",
       "      <td>43.107</td>\n",
       "      <td>130.439769</td>\n",
       "      <td>1975.095664</td>\n",
       "      <td>3098.8</td>\n",
       "    </tr>\n",
       "    <tr>\n",
       "      <th>1</th>\n",
       "      <td>3685.5</td>\n",
       "      <td>4511.5</td>\n",
       "      <td>9.3103</td>\n",
       "      <td>26.661</td>\n",
       "      <td>42.478</td>\n",
       "      <td>75.888</td>\n",
       "      <td>120.41</td>\n",
       "      <td>0.32859</td>\n",
       "      <td>79.935</td>\n",
       "      <td>26.669</td>\n",
       "      <td>...</td>\n",
       "      <td>4.7347</td>\n",
       "      <td>2.2965</td>\n",
       "      <td>0.021290</td>\n",
       "      <td>0.85223</td>\n",
       "      <td>0.119180</td>\n",
       "      <td>54.179</td>\n",
       "      <td>45.041</td>\n",
       "      <td>130.296577</td>\n",
       "      <td>1975.105411</td>\n",
       "      <td>3113.9</td>\n",
       "    </tr>\n",
       "    <tr>\n",
       "      <th>2</th>\n",
       "      <td>3682.8</td>\n",
       "      <td>4570.5</td>\n",
       "      <td>9.2759</td>\n",
       "      <td>26.653</td>\n",
       "      <td>42.224</td>\n",
       "      <td>75.779</td>\n",
       "      <td>120.43</td>\n",
       "      <td>0.35016</td>\n",
       "      <td>80.379</td>\n",
       "      <td>23.216</td>\n",
       "      <td>...</td>\n",
       "      <td>4.8275</td>\n",
       "      <td>2.2578</td>\n",
       "      <td>0.015472</td>\n",
       "      <td>0.81907</td>\n",
       "      <td>0.098032</td>\n",
       "      <td>54.413</td>\n",
       "      <td>42.933</td>\n",
       "      <td>130.280885</td>\n",
       "      <td>1975.091763</td>\n",
       "      <td>3100.0</td>\n",
       "    </tr>\n",
       "    <tr>\n",
       "      <th>3</th>\n",
       "      <td>3573.8</td>\n",
       "      <td>4547.2</td>\n",
       "      <td>9.3265</td>\n",
       "      <td>26.517</td>\n",
       "      <td>42.246</td>\n",
       "      <td>74.906</td>\n",
       "      <td>120.38</td>\n",
       "      <td>0.33413</td>\n",
       "      <td>80.407</td>\n",
       "      <td>25.154</td>\n",
       "      <td>...</td>\n",
       "      <td>4.8399</td>\n",
       "      <td>2.3040</td>\n",
       "      <td>0.007096</td>\n",
       "      <td>0.84621</td>\n",
       "      <td>0.101700</td>\n",
       "      <td>53.603</td>\n",
       "      <td>44.186</td>\n",
       "      <td>130.014115</td>\n",
       "      <td>1975.099423</td>\n",
       "      <td>3102.7</td>\n",
       "    </tr>\n",
       "    <tr>\n",
       "      <th>4</th>\n",
       "      <td>3644.3</td>\n",
       "      <td>4530.7</td>\n",
       "      <td>9.3318</td>\n",
       "      <td>27.119</td>\n",
       "      <td>42.199</td>\n",
       "      <td>75.036</td>\n",
       "      <td>120.42</td>\n",
       "      <td>0.34601</td>\n",
       "      <td>80.233</td>\n",
       "      <td>24.941</td>\n",
       "      <td>...</td>\n",
       "      <td>4.8477</td>\n",
       "      <td>2.2572</td>\n",
       "      <td>0.023564</td>\n",
       "      <td>0.83298</td>\n",
       "      <td>0.097448</td>\n",
       "      <td>52.915</td>\n",
       "      <td>43.488</td>\n",
       "      <td>131.194962</td>\n",
       "      <td>1975.098581</td>\n",
       "      <td>3107.4</td>\n",
       "    </tr>\n",
       "    <tr>\n",
       "      <th>...</th>\n",
       "      <td>...</td>\n",
       "      <td>...</td>\n",
       "      <td>...</td>\n",
       "      <td>...</td>\n",
       "      <td>...</td>\n",
       "      <td>...</td>\n",
       "      <td>...</td>\n",
       "      <td>...</td>\n",
       "      <td>...</td>\n",
       "      <td>...</td>\n",
       "      <td>...</td>\n",
       "      <td>...</td>\n",
       "      <td>...</td>\n",
       "      <td>...</td>\n",
       "      <td>...</td>\n",
       "      <td>...</td>\n",
       "      <td>...</td>\n",
       "      <td>...</td>\n",
       "      <td>...</td>\n",
       "      <td>...</td>\n",
       "      <td>...</td>\n",
       "    </tr>\n",
       "    <tr>\n",
       "      <th>150264</th>\n",
       "      <td>3602.0</td>\n",
       "      <td>4488.5</td>\n",
       "      <td>9.2903</td>\n",
       "      <td>26.737</td>\n",
       "      <td>42.304</td>\n",
       "      <td>74.364</td>\n",
       "      <td>120.39</td>\n",
       "      <td>0.33959</td>\n",
       "      <td>80.119</td>\n",
       "      <td>25.181</td>\n",
       "      <td>...</td>\n",
       "      <td>4.8674</td>\n",
       "      <td>2.3276</td>\n",
       "      <td>0.010042</td>\n",
       "      <td>0.88338</td>\n",
       "      <td>0.095266</td>\n",
       "      <td>53.332</td>\n",
       "      <td>43.710</td>\n",
       "      <td>130.445654</td>\n",
       "      <td>1975.099530</td>\n",
       "      <td>3108.0</td>\n",
       "    </tr>\n",
       "    <tr>\n",
       "      <th>150265</th>\n",
       "      <td>3658.9</td>\n",
       "      <td>4541.8</td>\n",
       "      <td>9.4212</td>\n",
       "      <td>26.887</td>\n",
       "      <td>42.675</td>\n",
       "      <td>76.042</td>\n",
       "      <td>120.42</td>\n",
       "      <td>0.34050</td>\n",
       "      <td>79.780</td>\n",
       "      <td>23.205</td>\n",
       "      <td>...</td>\n",
       "      <td>4.8172</td>\n",
       "      <td>2.2964</td>\n",
       "      <td>0.038459</td>\n",
       "      <td>0.81802</td>\n",
       "      <td>0.087961</td>\n",
       "      <td>53.466</td>\n",
       "      <td>43.087</td>\n",
       "      <td>130.739885</td>\n",
       "      <td>1975.091719</td>\n",
       "      <td>3116.9</td>\n",
       "    </tr>\n",
       "    <tr>\n",
       "      <th>150266</th>\n",
       "      <td>3664.7</td>\n",
       "      <td>4481.6</td>\n",
       "      <td>9.3381</td>\n",
       "      <td>27.136</td>\n",
       "      <td>41.835</td>\n",
       "      <td>74.236</td>\n",
       "      <td>120.42</td>\n",
       "      <td>0.31717</td>\n",
       "      <td>80.462</td>\n",
       "      <td>23.216</td>\n",
       "      <td>...</td>\n",
       "      <td>4.8518</td>\n",
       "      <td>2.2640</td>\n",
       "      <td>-0.002473</td>\n",
       "      <td>0.82219</td>\n",
       "      <td>0.106110</td>\n",
       "      <td>54.474</td>\n",
       "      <td>43.263</td>\n",
       "      <td>131.228308</td>\n",
       "      <td>1975.091763</td>\n",
       "      <td>3101.4</td>\n",
       "    </tr>\n",
       "    <tr>\n",
       "      <th>150267</th>\n",
       "      <td>3716.2</td>\n",
       "      <td>4502.5</td>\n",
       "      <td>9.4016</td>\n",
       "      <td>26.967</td>\n",
       "      <td>41.867</td>\n",
       "      <td>74.662</td>\n",
       "      <td>120.43</td>\n",
       "      <td>0.34990</td>\n",
       "      <td>80.211</td>\n",
       "      <td>25.184</td>\n",
       "      <td>...</td>\n",
       "      <td>4.7766</td>\n",
       "      <td>2.3251</td>\n",
       "      <td>0.018484</td>\n",
       "      <td>0.81109</td>\n",
       "      <td>0.106320</td>\n",
       "      <td>53.571</td>\n",
       "      <td>43.846</td>\n",
       "      <td>130.896808</td>\n",
       "      <td>1975.099542</td>\n",
       "      <td>3096.8</td>\n",
       "    </tr>\n",
       "    <tr>\n",
       "      <th>150268</th>\n",
       "      <td>3716.2</td>\n",
       "      <td>4502.5</td>\n",
       "      <td>9.4016</td>\n",
       "      <td>26.967</td>\n",
       "      <td>41.867</td>\n",
       "      <td>74.662</td>\n",
       "      <td>120.43</td>\n",
       "      <td>0.34990</td>\n",
       "      <td>80.211</td>\n",
       "      <td>25.184</td>\n",
       "      <td>...</td>\n",
       "      <td>4.7766</td>\n",
       "      <td>2.3251</td>\n",
       "      <td>0.018484</td>\n",
       "      <td>0.81109</td>\n",
       "      <td>0.106320</td>\n",
       "      <td>53.571</td>\n",
       "      <td>43.846</td>\n",
       "      <td>130.896808</td>\n",
       "      <td>1975.099542</td>\n",
       "      <td>3096.8</td>\n",
       "    </tr>\n",
       "  </tbody>\n",
       "</table>\n",
       "<p>150269 rows × 34 columns</p>\n",
       "</div>"
      ],
      "text/plain": [
       "        Condition No. 1  Condition No. 2  Condition No. 3  Condition No. 4  \\\n",
       "0                3687.5           4510.6           9.3160           26.734   \n",
       "1                3685.5           4511.5           9.3103           26.661   \n",
       "2                3682.8           4570.5           9.2759           26.653   \n",
       "3                3573.8           4547.2           9.3265           26.517   \n",
       "4                3644.3           4530.7           9.3318           27.119   \n",
       "...                 ...              ...              ...              ...   \n",
       "150264           3602.0           4488.5           9.2903           26.737   \n",
       "150265           3658.9           4541.8           9.4212           26.887   \n",
       "150266           3664.7           4481.6           9.3381           27.136   \n",
       "150267           3716.2           4502.5           9.4016           26.967   \n",
       "150268           3716.2           4502.5           9.4016           26.967   \n",
       "\n",
       "        Condition No. 5  Condition No. 6  Condition No. 7  Condition No. 8  \\\n",
       "0                42.511           74.935           120.42          0.33407   \n",
       "1                42.478           75.888           120.41          0.32859   \n",
       "2                42.224           75.779           120.43          0.35016   \n",
       "3                42.246           74.906           120.38          0.33413   \n",
       "4                42.199           75.036           120.42          0.34601   \n",
       "...                 ...              ...              ...              ...   \n",
       "150264           42.304           74.364           120.39          0.33959   \n",
       "150265           42.675           76.042           120.42          0.34050   \n",
       "150266           41.835           74.236           120.42          0.31717   \n",
       "150267           41.867           74.662           120.43          0.34990   \n",
       "150268           41.867           74.662           120.43          0.34990   \n",
       "\n",
       "        Condition No. 9  Condition No. 10  ...  Condition No. 25  \\\n",
       "0                80.345            24.203  ...            4.9187   \n",
       "1                79.935            26.669  ...            4.7347   \n",
       "2                80.379            23.216  ...            4.8275   \n",
       "3                80.407            25.154  ...            4.8399   \n",
       "4                80.233            24.941  ...            4.8477   \n",
       "...                 ...               ...  ...               ...   \n",
       "150264           80.119            25.181  ...            4.8674   \n",
       "150265           79.780            23.205  ...            4.8172   \n",
       "150266           80.462            23.216  ...            4.8518   \n",
       "150267           80.211            25.184  ...            4.7766   \n",
       "150268           80.211            25.184  ...            4.7766   \n",
       "\n",
       "        Condition No. 26  Condition No. 27  Condition No. 28  \\\n",
       "0                 2.3120          0.018975           0.84982   \n",
       "1                 2.2965          0.021290           0.85223   \n",
       "2                 2.2578          0.015472           0.81907   \n",
       "3                 2.3040          0.007096           0.84621   \n",
       "4                 2.2572          0.023564           0.83298   \n",
       "...                  ...               ...               ...   \n",
       "150264            2.3276          0.010042           0.88338   \n",
       "150265            2.2964          0.038459           0.81802   \n",
       "150266            2.2640         -0.002473           0.82219   \n",
       "150267            2.3251          0.018484           0.81109   \n",
       "150268            2.3251          0.018484           0.81109   \n",
       "\n",
       "        Condition No. 29  Condition No. 37  Condition No. 35  \\\n",
       "0               0.107870            53.729            43.107   \n",
       "1               0.119180            54.179            45.041   \n",
       "2               0.098032            54.413            42.933   \n",
       "3               0.101700            53.603            44.186   \n",
       "4               0.097448            52.915            43.488   \n",
       "...                  ...               ...               ...   \n",
       "150264          0.095266            53.332            43.710   \n",
       "150265          0.087961            53.466            43.087   \n",
       "150266          0.106110            54.474            43.263   \n",
       "150267          0.106320            53.571            43.846   \n",
       "150268          0.106320            53.571            43.846   \n",
       "\n",
       "        Condition No. 41  Condition No. 42  Targetted Condition No. 1  \n",
       "0             130.439769       1975.095664                     3098.8  \n",
       "1             130.296577       1975.105411                     3113.9  \n",
       "2             130.280885       1975.091763                     3100.0  \n",
       "3             130.014115       1975.099423                     3102.7  \n",
       "4             131.194962       1975.098581                     3107.4  \n",
       "...                  ...               ...                        ...  \n",
       "150264        130.445654       1975.099530                     3108.0  \n",
       "150265        130.739885       1975.091719                     3116.9  \n",
       "150266        131.228308       1975.091763                     3101.4  \n",
       "150267        130.896808       1975.099542                     3096.8  \n",
       "150268        130.896808       1975.099542                     3096.8  \n",
       "\n",
       "[150269 rows x 34 columns]"
      ]
     },
     "execution_count": 2,
     "metadata": {},
     "output_type": "execute_result"
    }
   ],
   "source": [
    "all_data=pandas.read_csv(\"Training Dataset.csv\")\n",
    "all_data"
   ]
  },
  {
   "cell_type": "code",
   "execution_count": 3,
   "id": "a3b2b3e9",
   "metadata": {},
   "outputs": [
    {
     "data": {
      "text/plain": [
       "0         3098.8\n",
       "1         3113.9\n",
       "2         3100.0\n",
       "3         3102.7\n",
       "4         3107.4\n",
       "           ...  \n",
       "150264    3108.0\n",
       "150265    3116.9\n",
       "150266    3101.4\n",
       "150267    3096.8\n",
       "150268    3096.8\n",
       "Name: Targetted Condition No. 1, Length: 150269, dtype: float64"
      ]
     },
     "execution_count": 3,
     "metadata": {},
     "output_type": "execute_result"
    }
   ],
   "source": [
    "x=all_data.drop(columns=['Targetted Condition No. 1'])\n",
    "y=all_data['Targetted Condition No. 1']\n",
    "y"
   ]
  },
  {
   "cell_type": "code",
   "execution_count": 4,
   "id": "ec38c3f0",
   "metadata": {},
   "outputs": [],
   "source": [
    "x_train, x_test, y_train, y_test = train_test_split(x, y, test_size=0.05)"
   ]
  },
  {
   "cell_type": "markdown",
   "id": "5f730009",
   "metadata": {},
   "source": [
    "# linear regression"
   ]
  },
  {
   "cell_type": "code",
   "execution_count": 5,
   "id": "8d77ae47",
   "metadata": {},
   "outputs": [
    {
     "data": {
      "text/plain": [
       "LinearRegression()"
      ]
     },
     "execution_count": 5,
     "metadata": {},
     "output_type": "execute_result"
    }
   ],
   "source": [
    "lr_model = LinearRegression()\n",
    "lr_model.fit(x_train.values,y_train.values)\n"
   ]
  },
  {
   "cell_type": "code",
   "execution_count": 6,
   "id": "0242556d",
   "metadata": {
    "scrolled": true
   },
   "outputs": [
    {
     "data": {
      "text/plain": [
       "array([3113.62672809, 3095.64692199, 3106.65576045, ..., 3102.36001774,\n",
       "       3105.90182044, 3101.54346818])"
      ]
     },
     "execution_count": 6,
     "metadata": {},
     "output_type": "execute_result"
    }
   ],
   "source": [
    "lr_predictions=lr_model.predict(x_test.values)\n",
    "lr_predictions\n",
    "# predictions.reshape(-1, 1)\n",
    "# lr_model.score(y_test, predictions)"
   ]
  },
  {
   "cell_type": "code",
   "execution_count": 7,
   "id": "35823737",
   "metadata": {},
   "outputs": [],
   "source": [
    "# y_test"
   ]
  },
  {
   "cell_type": "code",
   "execution_count": 8,
   "id": "7912f046",
   "metadata": {},
   "outputs": [
    {
     "data": {
      "text/plain": [
       "140547    3114.4\n",
       "70672     3090.8\n",
       "127360    3102.0\n",
       "146297    3115.4\n",
       "88587     3092.6\n",
       "           ...  \n",
       "116797    3119.6\n",
       "66456     3088.4\n",
       "109487    3105.7\n",
       "95225     3109.4\n",
       "23101     3096.7\n",
       "Name: Targetted Condition No. 1, Length: 7514, dtype: float64"
      ]
     },
     "execution_count": 8,
     "metadata": {},
     "output_type": "execute_result"
    }
   ],
   "source": [
    "# y_test = y_test.to_numpy()\n",
    "# y_test.reshape(-1, 1)\n",
    "y_test"
   ]
  },
  {
   "cell_type": "code",
   "execution_count": 9,
   "id": "6eb5cdeb",
   "metadata": {},
   "outputs": [
    {
     "ename": "AttributeError",
     "evalue": "'Series' object has no attribute 'reshape'",
     "output_type": "error",
     "traceback": [
      "\u001b[1;31m---------------------------------------------------------------------------\u001b[0m",
      "\u001b[1;31mAttributeError\u001b[0m                            Traceback (most recent call last)",
      "\u001b[1;32m<ipython-input-9-171ccc55ed66>\u001b[0m in \u001b[0;36m<module>\u001b[1;34m\u001b[0m\n\u001b[1;32m----> 1\u001b[1;33m \u001b[0my_test\u001b[0m\u001b[1;33m.\u001b[0m\u001b[0mreshape\u001b[0m\u001b[1;33m(\u001b[0m\u001b[1;33m-\u001b[0m\u001b[1;36m1\u001b[0m\u001b[1;33m,\u001b[0m \u001b[1;36m1\u001b[0m\u001b[1;33m)\u001b[0m\u001b[1;33m\u001b[0m\u001b[1;33m\u001b[0m\u001b[0m\n\u001b[0m\u001b[0;32m      2\u001b[0m \u001b[1;31m# predictions.reshape(-1, 1)\u001b[0m\u001b[1;33m\u001b[0m\u001b[1;33m\u001b[0m\u001b[1;33m\u001b[0m\u001b[0m\n",
      "\u001b[1;32mC:\\Anaconda\\anaconda3\\lib\\site-packages\\pandas\\core\\generic.py\u001b[0m in \u001b[0;36m__getattr__\u001b[1;34m(self, name)\u001b[0m\n\u001b[0;32m   5463\u001b[0m             \u001b[1;32mif\u001b[0m \u001b[0mself\u001b[0m\u001b[1;33m.\u001b[0m\u001b[0m_info_axis\u001b[0m\u001b[1;33m.\u001b[0m\u001b[0m_can_hold_identifiers_and_holds_name\u001b[0m\u001b[1;33m(\u001b[0m\u001b[0mname\u001b[0m\u001b[1;33m)\u001b[0m\u001b[1;33m:\u001b[0m\u001b[1;33m\u001b[0m\u001b[1;33m\u001b[0m\u001b[0m\n\u001b[0;32m   5464\u001b[0m                 \u001b[1;32mreturn\u001b[0m \u001b[0mself\u001b[0m\u001b[1;33m[\u001b[0m\u001b[0mname\u001b[0m\u001b[1;33m]\u001b[0m\u001b[1;33m\u001b[0m\u001b[1;33m\u001b[0m\u001b[0m\n\u001b[1;32m-> 5465\u001b[1;33m             \u001b[1;32mreturn\u001b[0m \u001b[0mobject\u001b[0m\u001b[1;33m.\u001b[0m\u001b[0m__getattribute__\u001b[0m\u001b[1;33m(\u001b[0m\u001b[0mself\u001b[0m\u001b[1;33m,\u001b[0m \u001b[0mname\u001b[0m\u001b[1;33m)\u001b[0m\u001b[1;33m\u001b[0m\u001b[1;33m\u001b[0m\u001b[0m\n\u001b[0m\u001b[0;32m   5466\u001b[0m \u001b[1;33m\u001b[0m\u001b[0m\n\u001b[0;32m   5467\u001b[0m     \u001b[1;32mdef\u001b[0m \u001b[0m__setattr__\u001b[0m\u001b[1;33m(\u001b[0m\u001b[0mself\u001b[0m\u001b[1;33m,\u001b[0m \u001b[0mname\u001b[0m\u001b[1;33m:\u001b[0m \u001b[0mstr\u001b[0m\u001b[1;33m,\u001b[0m \u001b[0mvalue\u001b[0m\u001b[1;33m)\u001b[0m \u001b[1;33m->\u001b[0m \u001b[1;32mNone\u001b[0m\u001b[1;33m:\u001b[0m\u001b[1;33m\u001b[0m\u001b[1;33m\u001b[0m\u001b[0m\n",
      "\u001b[1;31mAttributeError\u001b[0m: 'Series' object has no attribute 'reshape'"
     ]
    }
   ],
   "source": [
    "y_test.reshape(-1, 1)\n",
    "# predictions.reshape(-1, 1)"
   ]
  },
  {
   "cell_type": "code",
   "execution_count": 10,
   "id": "eedc9c94",
   "metadata": {},
   "outputs": [
    {
     "data": {
      "text/plain": [
       "0.7330258991964764"
      ]
     },
     "execution_count": 10,
     "metadata": {},
     "output_type": "execute_result"
    }
   ],
   "source": [
    "r2_score(y_test, lr_predictions)"
   ]
  },
  {
   "cell_type": "code",
   "execution_count": 11,
   "id": "63c8c8bf",
   "metadata": {
    "scrolled": true
   },
   "outputs": [],
   "source": [
    "# lr_model.score(y_test, predictions)"
   ]
  },
  {
   "cell_type": "markdown",
   "id": "68e32d64",
   "metadata": {},
   "source": [
    "# random forest regression"
   ]
  },
  {
   "cell_type": "code",
   "execution_count": 12,
   "id": "91aba156",
   "metadata": {},
   "outputs": [
    {
     "data": {
      "text/plain": [
       "RandomForestRegressor()"
      ]
     },
     "execution_count": 12,
     "metadata": {},
     "output_type": "execute_result"
    }
   ],
   "source": [
    "rfr_model = RandomForestRegressor()\n",
    "rfr_model.fit(x_train.values,y_train.values)"
   ]
  },
  {
   "cell_type": "code",
   "execution_count": 13,
   "id": "38d334ab",
   "metadata": {},
   "outputs": [
    {
     "data": {
      "text/plain": [
       "array([3117.3  , 3103.398, 3096.631, ..., 3099.737, 3103.401, 3109.639])"
      ]
     },
     "execution_count": 13,
     "metadata": {},
     "output_type": "execute_result"
    }
   ],
   "source": [
    "rfr_predictions=rfr_model.predict(x_test.values)\n",
    "rfr_predictions"
   ]
  },
  {
   "cell_type": "code",
   "execution_count": 14,
   "id": "a7f2315b",
   "metadata": {
    "scrolled": true
   },
   "outputs": [
    {
     "data": {
      "text/plain": [
       "0.7936261824859429"
      ]
     },
     "execution_count": 14,
     "metadata": {},
     "output_type": "execute_result"
    }
   ],
   "source": [
    "r2_score(y_test, rfr_predictions)"
   ]
  },
  {
   "cell_type": "markdown",
   "id": "787b35ef",
   "metadata": {},
   "source": [
    "# GradientBoostingRegressor"
   ]
  },
  {
   "cell_type": "code",
   "execution_count": 16,
   "id": "c2b6d81b",
   "metadata": {},
   "outputs": [
    {
     "data": {
      "text/plain": [
       "GradientBoostingRegressor()"
      ]
     },
     "execution_count": 16,
     "metadata": {},
     "output_type": "execute_result"
    }
   ],
   "source": [
    "rfr_model = GradientBoostingRegressor()\n",
    "rfr_model.fit(x_train.values,y_train.values)"
   ]
  },
  {
   "cell_type": "code",
   "execution_count": 17,
   "id": "f475c7e4",
   "metadata": {},
   "outputs": [
    {
     "data": {
      "text/plain": [
       "array([3110.67429215, 3104.41473526, 3097.45989356, ..., 3098.4616152 ,\n",
       "       3102.18127709, 3109.17852986])"
      ]
     },
     "execution_count": 17,
     "metadata": {},
     "output_type": "execute_result"
    }
   ],
   "source": [
    "rfr_predictions=rfr_model.predict(x_test.values)\n",
    "rfr_predictions"
   ]
  },
  {
   "cell_type": "code",
   "execution_count": 18,
   "id": "c99f67b1",
   "metadata": {},
   "outputs": [
    {
     "data": {
      "text/plain": [
       "0.7113608072270157"
      ]
     },
     "execution_count": 18,
     "metadata": {},
     "output_type": "execute_result"
    }
   ],
   "source": [
    "r2_score(y_test, rfr_predictions)"
   ]
  },
  {
   "cell_type": "markdown",
   "id": "1a9523c2",
   "metadata": {},
   "source": [
    "# ExtraTreesRegressor"
   ]
  },
  {
   "cell_type": "code",
   "execution_count": 31,
   "id": "312f6f77",
   "metadata": {},
   "outputs": [
    {
     "data": {
      "text/plain": [
       "ExtraTreesRegressor()"
      ]
     },
     "execution_count": 31,
     "metadata": {},
     "output_type": "execute_result"
    }
   ],
   "source": [
    "etr_model = ExtraTreesRegressor()\n",
    "etr_model.fit(x_train.values,y_train.values)"
   ]
  },
  {
   "cell_type": "code",
   "execution_count": 26,
   "id": "f7d63bb5",
   "metadata": {},
   "outputs": [
    {
     "data": {
      "text/plain": [
       "array([3101.464, 3099.7  , 3099.035, 3104.6  , 3096.4  , 3102.6  ,\n",
       "       3110.664, 3104.728, 3101.5  , 3106.5  , 3102.249, 3098.367,\n",
       "       3095.1  , 3098.32 , 3104.126, 3107.459, 3097.4  , 3096.1  ,\n",
       "       3106.46 , 3100.2  , 3099.818, 3100.829, 3098.149, 3094.714,\n",
       "       3104.7  , 3109.581, 3091.9  , 3103.2  , 3094.123, 3096.316,\n",
       "       3099.18 , 3093.8  , 3104.235, 3102.709, 3110.6  , 3099.   ,\n",
       "       3094.8  , 3101.2  , 3093.569, 3100.005, 3111.2  , 3112.294,\n",
       "       3100.6  , 3101.3  , 3103.512, 3106.97 , 3098.132, 3102.7  ,\n",
       "       3110.034, 3110.176, 3104.783, 3100.982, 3101.482, 3099.082,\n",
       "       3091.527, 3098.8  , 3104.949, 3097.82 , 3105.328, 3094.79 ,\n",
       "       3101.064, 3095.8  , 3095.842, 3108.711, 3093.811, 3102.208,\n",
       "       3099.1  , 3106.8  , 3096.38 , 3104.9  , 3108.436, 3106.761,\n",
       "       3107.756, 3107.3  , 3100.187, 3110.636])"
      ]
     },
     "execution_count": 26,
     "metadata": {},
     "output_type": "execute_result"
    }
   ],
   "source": [
    "etr_predictions=etr_model.predict(x_test.values)\n",
    "etr_predictions"
   ]
  },
  {
   "cell_type": "code",
   "execution_count": 27,
   "id": "64e49a62",
   "metadata": {},
   "outputs": [
    {
     "data": {
      "text/plain": [
       "0.7417687223601369"
      ]
     },
     "execution_count": 27,
     "metadata": {},
     "output_type": "execute_result"
    }
   ],
   "source": [
    "r2_score(y_test, etr_predictions)"
   ]
  },
  {
   "cell_type": "markdown",
   "id": "6fb14eac",
   "metadata": {},
   "source": [
    "# ElasticNet"
   ]
  },
  {
   "cell_type": "code",
   "execution_count": 34,
   "id": "69301b7b",
   "metadata": {},
   "outputs": [
    {
     "data": {
      "text/plain": [
       "ElasticNet()"
      ]
     },
     "execution_count": 34,
     "metadata": {},
     "output_type": "execute_result"
    }
   ],
   "source": [
    "etr_model = ElasticNet()\n",
    "etr_model.fit(x_train.values,y_train.values)"
   ]
  },
  {
   "cell_type": "code",
   "execution_count": 35,
   "id": "6001a059",
   "metadata": {},
   "outputs": [
    {
     "data": {
      "text/plain": [
       "array([3106.46412864, 3103.01507035, 3097.22796124, ..., 3098.44847968,\n",
       "       3102.1682717 , 3109.76447516])"
      ]
     },
     "execution_count": 35,
     "metadata": {},
     "output_type": "execute_result"
    }
   ],
   "source": [
    "etr_predictions=etr_model.predict(x_test.values)\n",
    "etr_predictions"
   ]
  },
  {
   "cell_type": "code",
   "execution_count": 36,
   "id": "fb47000e",
   "metadata": {},
   "outputs": [
    {
     "data": {
      "text/plain": [
       "0.4686636850865967"
      ]
     },
     "execution_count": 36,
     "metadata": {},
     "output_type": "execute_result"
    }
   ],
   "source": [
    "r2_score(y_test, etr_predictions)"
   ]
  },
  {
   "cell_type": "markdown",
   "id": "5561ad06",
   "metadata": {},
   "source": [
    "# SGDRegressor"
   ]
  },
  {
   "cell_type": "code",
   "execution_count": 22,
   "id": "6e6f5497",
   "metadata": {},
   "outputs": [
    {
     "data": {
      "text/plain": [
       "SGDRegressor()"
      ]
     },
     "execution_count": 22,
     "metadata": {},
     "output_type": "execute_result"
    }
   ],
   "source": [
    "sdg_model = SGDRegressor()\n",
    "sdg_model.fit(x_train.values,y_train.values)"
   ]
  },
  {
   "cell_type": "code",
   "execution_count": 23,
   "id": "7f191124",
   "metadata": {},
   "outputs": [
    {
     "data": {
      "text/plain": [
       "array([5.62757756e+15, 5.86891672e+15, 5.90338606e+15, ...,\n",
       "       5.89113585e+15, 5.81119431e+15, 5.81714397e+15])"
      ]
     },
     "execution_count": 23,
     "metadata": {},
     "output_type": "execute_result"
    }
   ],
   "source": [
    "sdg_predictions=sdg_model.predict(x_test.values)\n",
    "sdg_predictions"
   ]
  },
  {
   "cell_type": "code",
   "execution_count": 24,
   "id": "2977647a",
   "metadata": {},
   "outputs": [
    {
     "data": {
      "text/plain": [
       "-8.03020717409821e+29"
      ]
     },
     "execution_count": 24,
     "metadata": {},
     "output_type": "execute_result"
    }
   ],
   "source": [
    "r2_score(y_test, sdg_predictions)"
   ]
  },
  {
   "cell_type": "markdown",
   "id": "7935edf1",
   "metadata": {},
   "source": [
    "# Support Vector Machine"
   ]
  },
  {
   "cell_type": "code",
   "execution_count": null,
   "id": "dfdedc86",
   "metadata": {},
   "outputs": [],
   "source": [
    "svr_model = SVR()\n",
    "svr_model.fit(x_train.values,y_train.values)"
   ]
  },
  {
   "cell_type": "code",
   "execution_count": 40,
   "id": "1378ebb0",
   "metadata": {},
   "outputs": [
    {
     "data": {
      "text/plain": [
       "array([-5.53386275e+15, -5.49195604e+15, -5.52767810e+15, ...,\n",
       "       -5.48855957e+15, -5.51501443e+15, -5.52035886e+15])"
      ]
     },
     "execution_count": 40,
     "metadata": {},
     "output_type": "execute_result"
    }
   ],
   "source": [
    "svr_predictions=svr_model.predict(x_test.values)\n",
    "svr_predictions"
   ]
  },
  {
   "cell_type": "code",
   "execution_count": 41,
   "id": "ed9d17fd",
   "metadata": {},
   "outputs": [
    {
     "data": {
      "text/plain": [
       "-7.144797507122021e+29"
      ]
     },
     "execution_count": 41,
     "metadata": {},
     "output_type": "execute_result"
    }
   ],
   "source": [
    "r2_score(y_test, svr_predictions)"
   ]
  },
  {
   "cell_type": "markdown",
   "id": "348ff33c",
   "metadata": {},
   "source": [
    "# BayesianRidge"
   ]
  },
  {
   "cell_type": "code",
   "execution_count": 25,
   "id": "b7d80fca",
   "metadata": {},
   "outputs": [
    {
     "data": {
      "text/plain": [
       "BayesianRidge()"
      ]
     },
     "execution_count": 25,
     "metadata": {},
     "output_type": "execute_result"
    }
   ],
   "source": [
    "byr_model = BayesianRidge()\n",
    "byr_model.fit(x_train.values,y_train.values)"
   ]
  },
  {
   "cell_type": "code",
   "execution_count": 26,
   "id": "bc44e459",
   "metadata": {},
   "outputs": [
    {
     "data": {
      "text/plain": [
       "array([3096.88315959, 3106.64407841, 3108.74492095, ..., 3098.72820749,\n",
       "       3103.24613923, 3107.07578977])"
      ]
     },
     "execution_count": 26,
     "metadata": {},
     "output_type": "execute_result"
    }
   ],
   "source": [
    "byr_predictions=byr_model.predict(x_test.values)\n",
    "byr_predictions"
   ]
  },
  {
   "cell_type": "code",
   "execution_count": 27,
   "id": "0e5aad6a",
   "metadata": {},
   "outputs": [
    {
     "data": {
      "text/plain": [
       "0.7373825218575596"
      ]
     },
     "execution_count": 27,
     "metadata": {},
     "output_type": "execute_result"
    }
   ],
   "source": [
    "r2_score(y_test, byr_predictions)"
   ]
  },
  {
   "cell_type": "markdown",
   "id": "66bf62c3",
   "metadata": {},
   "source": [
    "# CatBoostRegressor"
   ]
  },
  {
   "cell_type": "code",
   "execution_count": null,
   "id": "4256d8ef",
   "metadata": {},
   "outputs": [],
   "source": [
    "cbr_model = CatBoostRegressor()\n",
    "cbr_model.fit(x_train.values,y_train.values)"
   ]
  },
  {
   "cell_type": "code",
   "execution_count": 40,
   "id": "1671ae81",
   "metadata": {},
   "outputs": [
    {
     "data": {
      "text/plain": [
       "array([-5.53386275e+15, -5.49195604e+15, -5.52767810e+15, ...,\n",
       "       -5.48855957e+15, -5.51501443e+15, -5.52035886e+15])"
      ]
     },
     "execution_count": 40,
     "metadata": {},
     "output_type": "execute_result"
    }
   ],
   "source": [
    "cbr_predictions=cbr_model.predict(x_test.values)\n",
    "cbr_predictions"
   ]
  },
  {
   "cell_type": "code",
   "execution_count": 41,
   "id": "f72b175b",
   "metadata": {},
   "outputs": [
    {
     "data": {
      "text/plain": [
       "-7.144797507122021e+29"
      ]
     },
     "execution_count": 41,
     "metadata": {},
     "output_type": "execute_result"
    }
   ],
   "source": [
    "r2_score(y_test, cbr_predictions)"
   ]
  },
  {
   "cell_type": "markdown",
   "id": "6d4434d5",
   "metadata": {},
   "source": [
    "# KernelRidge"
   ]
  },
  {
   "cell_type": "code",
   "execution_count": 28,
   "id": "f2dae615",
   "metadata": {},
   "outputs": [
    {
     "ename": "MemoryError",
     "evalue": "Unable to allocate 108. GiB for an array with shape (120215, 120215) and data type float64",
     "output_type": "error",
     "traceback": [
      "\u001b[1;31m---------------------------------------------------------------------------\u001b[0m",
      "\u001b[1;31mMemoryError\u001b[0m                               Traceback (most recent call last)",
      "\u001b[1;32m<ipython-input-28-a78272fce686>\u001b[0m in \u001b[0;36m<module>\u001b[1;34m\u001b[0m\n\u001b[0;32m      1\u001b[0m \u001b[0mkr_model\u001b[0m \u001b[1;33m=\u001b[0m \u001b[0mKernelRidge\u001b[0m\u001b[1;33m(\u001b[0m\u001b[1;33m)\u001b[0m\u001b[1;33m\u001b[0m\u001b[1;33m\u001b[0m\u001b[0m\n\u001b[1;32m----> 2\u001b[1;33m \u001b[0mkr_model\u001b[0m\u001b[1;33m.\u001b[0m\u001b[0mfit\u001b[0m\u001b[1;33m(\u001b[0m\u001b[0mx_train\u001b[0m\u001b[1;33m.\u001b[0m\u001b[0mvalues\u001b[0m\u001b[1;33m,\u001b[0m\u001b[0my_train\u001b[0m\u001b[1;33m.\u001b[0m\u001b[0mvalues\u001b[0m\u001b[1;33m)\u001b[0m\u001b[1;33m\u001b[0m\u001b[1;33m\u001b[0m\u001b[0m\n\u001b[0m",
      "\u001b[1;32mC:\\Anaconda\\anaconda3\\lib\\site-packages\\sklearn\\kernel_ridge.py\u001b[0m in \u001b[0;36mfit\u001b[1;34m(self, X, y, sample_weight)\u001b[0m\n\u001b[0;32m    195\u001b[0m             \u001b[0msample_weight\u001b[0m \u001b[1;33m=\u001b[0m \u001b[0m_check_sample_weight\u001b[0m\u001b[1;33m(\u001b[0m\u001b[0msample_weight\u001b[0m\u001b[1;33m,\u001b[0m \u001b[0mX\u001b[0m\u001b[1;33m)\u001b[0m\u001b[1;33m\u001b[0m\u001b[1;33m\u001b[0m\u001b[0m\n\u001b[0;32m    196\u001b[0m \u001b[1;33m\u001b[0m\u001b[0m\n\u001b[1;32m--> 197\u001b[1;33m         \u001b[0mK\u001b[0m \u001b[1;33m=\u001b[0m \u001b[0mself\u001b[0m\u001b[1;33m.\u001b[0m\u001b[0m_get_kernel\u001b[0m\u001b[1;33m(\u001b[0m\u001b[0mX\u001b[0m\u001b[1;33m)\u001b[0m\u001b[1;33m\u001b[0m\u001b[1;33m\u001b[0m\u001b[0m\n\u001b[0m\u001b[0;32m    198\u001b[0m         \u001b[0malpha\u001b[0m \u001b[1;33m=\u001b[0m \u001b[0mnp\u001b[0m\u001b[1;33m.\u001b[0m\u001b[0matleast_1d\u001b[0m\u001b[1;33m(\u001b[0m\u001b[0mself\u001b[0m\u001b[1;33m.\u001b[0m\u001b[0malpha\u001b[0m\u001b[1;33m)\u001b[0m\u001b[1;33m\u001b[0m\u001b[1;33m\u001b[0m\u001b[0m\n\u001b[0;32m    199\u001b[0m \u001b[1;33m\u001b[0m\u001b[0m\n",
      "\u001b[1;32mC:\\Anaconda\\anaconda3\\lib\\site-packages\\sklearn\\kernel_ridge.py\u001b[0m in \u001b[0;36m_get_kernel\u001b[1;34m(self, X, Y)\u001b[0m\n\u001b[0;32m    153\u001b[0m         \u001b[1;32melse\u001b[0m\u001b[1;33m:\u001b[0m\u001b[1;33m\u001b[0m\u001b[1;33m\u001b[0m\u001b[0m\n\u001b[0;32m    154\u001b[0m             \u001b[0mparams\u001b[0m \u001b[1;33m=\u001b[0m \u001b[1;33m{\u001b[0m\u001b[1;34m\"gamma\"\u001b[0m\u001b[1;33m:\u001b[0m \u001b[0mself\u001b[0m\u001b[1;33m.\u001b[0m\u001b[0mgamma\u001b[0m\u001b[1;33m,\u001b[0m \u001b[1;34m\"degree\"\u001b[0m\u001b[1;33m:\u001b[0m \u001b[0mself\u001b[0m\u001b[1;33m.\u001b[0m\u001b[0mdegree\u001b[0m\u001b[1;33m,\u001b[0m \u001b[1;34m\"coef0\"\u001b[0m\u001b[1;33m:\u001b[0m \u001b[0mself\u001b[0m\u001b[1;33m.\u001b[0m\u001b[0mcoef0\u001b[0m\u001b[1;33m}\u001b[0m\u001b[1;33m\u001b[0m\u001b[1;33m\u001b[0m\u001b[0m\n\u001b[1;32m--> 155\u001b[1;33m         \u001b[1;32mreturn\u001b[0m \u001b[0mpairwise_kernels\u001b[0m\u001b[1;33m(\u001b[0m\u001b[0mX\u001b[0m\u001b[1;33m,\u001b[0m \u001b[0mY\u001b[0m\u001b[1;33m,\u001b[0m \u001b[0mmetric\u001b[0m\u001b[1;33m=\u001b[0m\u001b[0mself\u001b[0m\u001b[1;33m.\u001b[0m\u001b[0mkernel\u001b[0m\u001b[1;33m,\u001b[0m \u001b[0mfilter_params\u001b[0m\u001b[1;33m=\u001b[0m\u001b[1;32mTrue\u001b[0m\u001b[1;33m,\u001b[0m \u001b[1;33m**\u001b[0m\u001b[0mparams\u001b[0m\u001b[1;33m)\u001b[0m\u001b[1;33m\u001b[0m\u001b[1;33m\u001b[0m\u001b[0m\n\u001b[0m\u001b[0;32m    156\u001b[0m \u001b[1;33m\u001b[0m\u001b[0m\n\u001b[0;32m    157\u001b[0m     \u001b[1;32mdef\u001b[0m \u001b[0m_more_tags\u001b[0m\u001b[1;33m(\u001b[0m\u001b[0mself\u001b[0m\u001b[1;33m)\u001b[0m\u001b[1;33m:\u001b[0m\u001b[1;33m\u001b[0m\u001b[1;33m\u001b[0m\u001b[0m\n",
      "\u001b[1;32mC:\\Anaconda\\anaconda3\\lib\\site-packages\\sklearn\\metrics\\pairwise.py\u001b[0m in \u001b[0;36mpairwise_kernels\u001b[1;34m(X, Y, metric, filter_params, n_jobs, **kwds)\u001b[0m\n\u001b[0;32m   2051\u001b[0m         \u001b[1;32mraise\u001b[0m \u001b[0mValueError\u001b[0m\u001b[1;33m(\u001b[0m\u001b[1;34m\"Unknown kernel %r\"\u001b[0m \u001b[1;33m%\u001b[0m \u001b[0mmetric\u001b[0m\u001b[1;33m)\u001b[0m\u001b[1;33m\u001b[0m\u001b[1;33m\u001b[0m\u001b[0m\n\u001b[0;32m   2052\u001b[0m \u001b[1;33m\u001b[0m\u001b[0m\n\u001b[1;32m-> 2053\u001b[1;33m     \u001b[1;32mreturn\u001b[0m \u001b[0m_parallel_pairwise\u001b[0m\u001b[1;33m(\u001b[0m\u001b[0mX\u001b[0m\u001b[1;33m,\u001b[0m \u001b[0mY\u001b[0m\u001b[1;33m,\u001b[0m \u001b[0mfunc\u001b[0m\u001b[1;33m,\u001b[0m \u001b[0mn_jobs\u001b[0m\u001b[1;33m,\u001b[0m \u001b[1;33m**\u001b[0m\u001b[0mkwds\u001b[0m\u001b[1;33m)\u001b[0m\u001b[1;33m\u001b[0m\u001b[1;33m\u001b[0m\u001b[0m\n\u001b[0m",
      "\u001b[1;32mC:\\Anaconda\\anaconda3\\lib\\site-packages\\sklearn\\metrics\\pairwise.py\u001b[0m in \u001b[0;36m_parallel_pairwise\u001b[1;34m(X, Y, func, n_jobs, **kwds)\u001b[0m\n\u001b[0;32m   1428\u001b[0m \u001b[1;33m\u001b[0m\u001b[0m\n\u001b[0;32m   1429\u001b[0m     \u001b[1;32mif\u001b[0m \u001b[0meffective_n_jobs\u001b[0m\u001b[1;33m(\u001b[0m\u001b[0mn_jobs\u001b[0m\u001b[1;33m)\u001b[0m \u001b[1;33m==\u001b[0m \u001b[1;36m1\u001b[0m\u001b[1;33m:\u001b[0m\u001b[1;33m\u001b[0m\u001b[1;33m\u001b[0m\u001b[0m\n\u001b[1;32m-> 1430\u001b[1;33m         \u001b[1;32mreturn\u001b[0m \u001b[0mfunc\u001b[0m\u001b[1;33m(\u001b[0m\u001b[0mX\u001b[0m\u001b[1;33m,\u001b[0m \u001b[0mY\u001b[0m\u001b[1;33m,\u001b[0m \u001b[1;33m**\u001b[0m\u001b[0mkwds\u001b[0m\u001b[1;33m)\u001b[0m\u001b[1;33m\u001b[0m\u001b[1;33m\u001b[0m\u001b[0m\n\u001b[0m\u001b[0;32m   1431\u001b[0m \u001b[1;33m\u001b[0m\u001b[0m\n\u001b[0;32m   1432\u001b[0m     \u001b[1;31m# enforce a threading backend to prevent data communication overhead\u001b[0m\u001b[1;33m\u001b[0m\u001b[1;33m\u001b[0m\u001b[1;33m\u001b[0m\u001b[0m\n",
      "\u001b[1;32mC:\\Anaconda\\anaconda3\\lib\\site-packages\\sklearn\\metrics\\pairwise.py\u001b[0m in \u001b[0;36mlinear_kernel\u001b[1;34m(X, Y, dense_output)\u001b[0m\n\u001b[0;32m   1071\u001b[0m     \"\"\"\n\u001b[0;32m   1072\u001b[0m     \u001b[0mX\u001b[0m\u001b[1;33m,\u001b[0m \u001b[0mY\u001b[0m \u001b[1;33m=\u001b[0m \u001b[0mcheck_pairwise_arrays\u001b[0m\u001b[1;33m(\u001b[0m\u001b[0mX\u001b[0m\u001b[1;33m,\u001b[0m \u001b[0mY\u001b[0m\u001b[1;33m)\u001b[0m\u001b[1;33m\u001b[0m\u001b[1;33m\u001b[0m\u001b[0m\n\u001b[1;32m-> 1073\u001b[1;33m     \u001b[1;32mreturn\u001b[0m \u001b[0msafe_sparse_dot\u001b[0m\u001b[1;33m(\u001b[0m\u001b[0mX\u001b[0m\u001b[1;33m,\u001b[0m \u001b[0mY\u001b[0m\u001b[1;33m.\u001b[0m\u001b[0mT\u001b[0m\u001b[1;33m,\u001b[0m \u001b[0mdense_output\u001b[0m\u001b[1;33m=\u001b[0m\u001b[0mdense_output\u001b[0m\u001b[1;33m)\u001b[0m\u001b[1;33m\u001b[0m\u001b[1;33m\u001b[0m\u001b[0m\n\u001b[0m\u001b[0;32m   1074\u001b[0m \u001b[1;33m\u001b[0m\u001b[0m\n\u001b[0;32m   1075\u001b[0m \u001b[1;33m\u001b[0m\u001b[0m\n",
      "\u001b[1;32mC:\\Anaconda\\anaconda3\\lib\\site-packages\\sklearn\\utils\\extmath.py\u001b[0m in \u001b[0;36msafe_sparse_dot\u001b[1;34m(a, b, dense_output)\u001b[0m\n\u001b[0;32m    151\u001b[0m             \u001b[0mret\u001b[0m \u001b[1;33m=\u001b[0m \u001b[0mnp\u001b[0m\u001b[1;33m.\u001b[0m\u001b[0mdot\u001b[0m\u001b[1;33m(\u001b[0m\u001b[0ma\u001b[0m\u001b[1;33m,\u001b[0m \u001b[0mb\u001b[0m\u001b[1;33m)\u001b[0m\u001b[1;33m\u001b[0m\u001b[1;33m\u001b[0m\u001b[0m\n\u001b[0;32m    152\u001b[0m     \u001b[1;32melse\u001b[0m\u001b[1;33m:\u001b[0m\u001b[1;33m\u001b[0m\u001b[1;33m\u001b[0m\u001b[0m\n\u001b[1;32m--> 153\u001b[1;33m         \u001b[0mret\u001b[0m \u001b[1;33m=\u001b[0m \u001b[0ma\u001b[0m \u001b[1;33m@\u001b[0m \u001b[0mb\u001b[0m\u001b[1;33m\u001b[0m\u001b[1;33m\u001b[0m\u001b[0m\n\u001b[0m\u001b[0;32m    154\u001b[0m \u001b[1;33m\u001b[0m\u001b[0m\n\u001b[0;32m    155\u001b[0m     if (\n",
      "\u001b[1;31mMemoryError\u001b[0m: Unable to allocate 108. GiB for an array with shape (120215, 120215) and data type float64"
     ]
    }
   ],
   "source": [
    "kr_model = KernelRidge()\n",
    "kr_model.fit(x_train.values,y_train.values)"
   ]
  },
  {
   "cell_type": "code",
   "execution_count": 29,
   "id": "57ad7a66",
   "metadata": {},
   "outputs": [
    {
     "ename": "AttributeError",
     "evalue": "'KernelRidge' object has no attribute 'X_fit_'",
     "output_type": "error",
     "traceback": [
      "\u001b[1;31m---------------------------------------------------------------------------\u001b[0m",
      "\u001b[1;31mAttributeError\u001b[0m                            Traceback (most recent call last)",
      "\u001b[1;32m<ipython-input-29-079f52a6d74d>\u001b[0m in \u001b[0;36m<module>\u001b[1;34m\u001b[0m\n\u001b[1;32m----> 1\u001b[1;33m \u001b[0mkr_predictions\u001b[0m\u001b[1;33m=\u001b[0m\u001b[0mkr_model\u001b[0m\u001b[1;33m.\u001b[0m\u001b[0mpredict\u001b[0m\u001b[1;33m(\u001b[0m\u001b[0mx_test\u001b[0m\u001b[1;33m.\u001b[0m\u001b[0mvalues\u001b[0m\u001b[1;33m)\u001b[0m\u001b[1;33m\u001b[0m\u001b[1;33m\u001b[0m\u001b[0m\n\u001b[0m\u001b[0;32m      2\u001b[0m \u001b[0mkr_predictions\u001b[0m\u001b[1;33m\u001b[0m\u001b[1;33m\u001b[0m\u001b[0m\n",
      "\u001b[1;32mC:\\Anaconda\\anaconda3\\lib\\site-packages\\sklearn\\kernel_ridge.py\u001b[0m in \u001b[0;36mpredict\u001b[1;34m(self, X)\u001b[0m\n\u001b[0;32m    230\u001b[0m         \u001b[0mcheck_is_fitted\u001b[0m\u001b[1;33m(\u001b[0m\u001b[0mself\u001b[0m\u001b[1;33m)\u001b[0m\u001b[1;33m\u001b[0m\u001b[1;33m\u001b[0m\u001b[0m\n\u001b[0;32m    231\u001b[0m         \u001b[0mX\u001b[0m \u001b[1;33m=\u001b[0m \u001b[0mself\u001b[0m\u001b[1;33m.\u001b[0m\u001b[0m_validate_data\u001b[0m\u001b[1;33m(\u001b[0m\u001b[0mX\u001b[0m\u001b[1;33m,\u001b[0m \u001b[0maccept_sparse\u001b[0m\u001b[1;33m=\u001b[0m\u001b[1;33m(\u001b[0m\u001b[1;34m\"csr\"\u001b[0m\u001b[1;33m,\u001b[0m \u001b[1;34m\"csc\"\u001b[0m\u001b[1;33m)\u001b[0m\u001b[1;33m,\u001b[0m \u001b[0mreset\u001b[0m\u001b[1;33m=\u001b[0m\u001b[1;32mFalse\u001b[0m\u001b[1;33m)\u001b[0m\u001b[1;33m\u001b[0m\u001b[1;33m\u001b[0m\u001b[0m\n\u001b[1;32m--> 232\u001b[1;33m         \u001b[0mK\u001b[0m \u001b[1;33m=\u001b[0m \u001b[0mself\u001b[0m\u001b[1;33m.\u001b[0m\u001b[0m_get_kernel\u001b[0m\u001b[1;33m(\u001b[0m\u001b[0mX\u001b[0m\u001b[1;33m,\u001b[0m \u001b[0mself\u001b[0m\u001b[1;33m.\u001b[0m\u001b[0mX_fit_\u001b[0m\u001b[1;33m)\u001b[0m\u001b[1;33m\u001b[0m\u001b[1;33m\u001b[0m\u001b[0m\n\u001b[0m\u001b[0;32m    233\u001b[0m         \u001b[1;32mreturn\u001b[0m \u001b[0mnp\u001b[0m\u001b[1;33m.\u001b[0m\u001b[0mdot\u001b[0m\u001b[1;33m(\u001b[0m\u001b[0mK\u001b[0m\u001b[1;33m,\u001b[0m \u001b[0mself\u001b[0m\u001b[1;33m.\u001b[0m\u001b[0mdual_coef_\u001b[0m\u001b[1;33m)\u001b[0m\u001b[1;33m\u001b[0m\u001b[1;33m\u001b[0m\u001b[0m\n",
      "\u001b[1;31mAttributeError\u001b[0m: 'KernelRidge' object has no attribute 'X_fit_'"
     ]
    }
   ],
   "source": [
    "kr_predictions=kr_model.predict(x_test.values)\n",
    "kr_predictions"
   ]
  },
  {
   "cell_type": "code",
   "execution_count": 41,
   "id": "91a3695d",
   "metadata": {},
   "outputs": [
    {
     "data": {
      "text/plain": [
       "-7.144797507122021e+29"
      ]
     },
     "execution_count": 41,
     "metadata": {},
     "output_type": "execute_result"
    }
   ],
   "source": [
    "r2_score(y_test, kr_predictions)"
   ]
  },
  {
   "cell_type": "markdown",
   "id": "5b04bdfa",
   "metadata": {},
   "source": [
    "# XGBRegressor"
   ]
  },
  {
   "cell_type": "code",
   "execution_count": 30,
   "id": "915733e4",
   "metadata": {},
   "outputs": [
    {
     "ename": "MemoryError",
     "evalue": "Unable to allocate 108. GiB for an array with shape (120215, 120215) and data type float64",
     "output_type": "error",
     "traceback": [
      "\u001b[1;31m---------------------------------------------------------------------------\u001b[0m",
      "\u001b[1;31mMemoryError\u001b[0m                               Traceback (most recent call last)",
      "\u001b[1;32m<ipython-input-30-8f8ed9a1519a>\u001b[0m in \u001b[0;36m<module>\u001b[1;34m\u001b[0m\n\u001b[0;32m      1\u001b[0m \u001b[0mxgb_model\u001b[0m \u001b[1;33m=\u001b[0m \u001b[0mKernelRidge\u001b[0m\u001b[1;33m(\u001b[0m\u001b[1;33m)\u001b[0m\u001b[1;33m\u001b[0m\u001b[1;33m\u001b[0m\u001b[0m\n\u001b[1;32m----> 2\u001b[1;33m \u001b[0mxgb_model\u001b[0m\u001b[1;33m.\u001b[0m\u001b[0mfit\u001b[0m\u001b[1;33m(\u001b[0m\u001b[0mx_train\u001b[0m\u001b[1;33m.\u001b[0m\u001b[0mvalues\u001b[0m\u001b[1;33m,\u001b[0m\u001b[0my_train\u001b[0m\u001b[1;33m.\u001b[0m\u001b[0mvalues\u001b[0m\u001b[1;33m)\u001b[0m\u001b[1;33m\u001b[0m\u001b[1;33m\u001b[0m\u001b[0m\n\u001b[0m",
      "\u001b[1;32mC:\\Anaconda\\anaconda3\\lib\\site-packages\\sklearn\\kernel_ridge.py\u001b[0m in \u001b[0;36mfit\u001b[1;34m(self, X, y, sample_weight)\u001b[0m\n\u001b[0;32m    195\u001b[0m             \u001b[0msample_weight\u001b[0m \u001b[1;33m=\u001b[0m \u001b[0m_check_sample_weight\u001b[0m\u001b[1;33m(\u001b[0m\u001b[0msample_weight\u001b[0m\u001b[1;33m,\u001b[0m \u001b[0mX\u001b[0m\u001b[1;33m)\u001b[0m\u001b[1;33m\u001b[0m\u001b[1;33m\u001b[0m\u001b[0m\n\u001b[0;32m    196\u001b[0m \u001b[1;33m\u001b[0m\u001b[0m\n\u001b[1;32m--> 197\u001b[1;33m         \u001b[0mK\u001b[0m \u001b[1;33m=\u001b[0m \u001b[0mself\u001b[0m\u001b[1;33m.\u001b[0m\u001b[0m_get_kernel\u001b[0m\u001b[1;33m(\u001b[0m\u001b[0mX\u001b[0m\u001b[1;33m)\u001b[0m\u001b[1;33m\u001b[0m\u001b[1;33m\u001b[0m\u001b[0m\n\u001b[0m\u001b[0;32m    198\u001b[0m         \u001b[0malpha\u001b[0m \u001b[1;33m=\u001b[0m \u001b[0mnp\u001b[0m\u001b[1;33m.\u001b[0m\u001b[0matleast_1d\u001b[0m\u001b[1;33m(\u001b[0m\u001b[0mself\u001b[0m\u001b[1;33m.\u001b[0m\u001b[0malpha\u001b[0m\u001b[1;33m)\u001b[0m\u001b[1;33m\u001b[0m\u001b[1;33m\u001b[0m\u001b[0m\n\u001b[0;32m    199\u001b[0m \u001b[1;33m\u001b[0m\u001b[0m\n",
      "\u001b[1;32mC:\\Anaconda\\anaconda3\\lib\\site-packages\\sklearn\\kernel_ridge.py\u001b[0m in \u001b[0;36m_get_kernel\u001b[1;34m(self, X, Y)\u001b[0m\n\u001b[0;32m    153\u001b[0m         \u001b[1;32melse\u001b[0m\u001b[1;33m:\u001b[0m\u001b[1;33m\u001b[0m\u001b[1;33m\u001b[0m\u001b[0m\n\u001b[0;32m    154\u001b[0m             \u001b[0mparams\u001b[0m \u001b[1;33m=\u001b[0m \u001b[1;33m{\u001b[0m\u001b[1;34m\"gamma\"\u001b[0m\u001b[1;33m:\u001b[0m \u001b[0mself\u001b[0m\u001b[1;33m.\u001b[0m\u001b[0mgamma\u001b[0m\u001b[1;33m,\u001b[0m \u001b[1;34m\"degree\"\u001b[0m\u001b[1;33m:\u001b[0m \u001b[0mself\u001b[0m\u001b[1;33m.\u001b[0m\u001b[0mdegree\u001b[0m\u001b[1;33m,\u001b[0m \u001b[1;34m\"coef0\"\u001b[0m\u001b[1;33m:\u001b[0m \u001b[0mself\u001b[0m\u001b[1;33m.\u001b[0m\u001b[0mcoef0\u001b[0m\u001b[1;33m}\u001b[0m\u001b[1;33m\u001b[0m\u001b[1;33m\u001b[0m\u001b[0m\n\u001b[1;32m--> 155\u001b[1;33m         \u001b[1;32mreturn\u001b[0m \u001b[0mpairwise_kernels\u001b[0m\u001b[1;33m(\u001b[0m\u001b[0mX\u001b[0m\u001b[1;33m,\u001b[0m \u001b[0mY\u001b[0m\u001b[1;33m,\u001b[0m \u001b[0mmetric\u001b[0m\u001b[1;33m=\u001b[0m\u001b[0mself\u001b[0m\u001b[1;33m.\u001b[0m\u001b[0mkernel\u001b[0m\u001b[1;33m,\u001b[0m \u001b[0mfilter_params\u001b[0m\u001b[1;33m=\u001b[0m\u001b[1;32mTrue\u001b[0m\u001b[1;33m,\u001b[0m \u001b[1;33m**\u001b[0m\u001b[0mparams\u001b[0m\u001b[1;33m)\u001b[0m\u001b[1;33m\u001b[0m\u001b[1;33m\u001b[0m\u001b[0m\n\u001b[0m\u001b[0;32m    156\u001b[0m \u001b[1;33m\u001b[0m\u001b[0m\n\u001b[0;32m    157\u001b[0m     \u001b[1;32mdef\u001b[0m \u001b[0m_more_tags\u001b[0m\u001b[1;33m(\u001b[0m\u001b[0mself\u001b[0m\u001b[1;33m)\u001b[0m\u001b[1;33m:\u001b[0m\u001b[1;33m\u001b[0m\u001b[1;33m\u001b[0m\u001b[0m\n",
      "\u001b[1;32mC:\\Anaconda\\anaconda3\\lib\\site-packages\\sklearn\\metrics\\pairwise.py\u001b[0m in \u001b[0;36mpairwise_kernels\u001b[1;34m(X, Y, metric, filter_params, n_jobs, **kwds)\u001b[0m\n\u001b[0;32m   2051\u001b[0m         \u001b[1;32mraise\u001b[0m \u001b[0mValueError\u001b[0m\u001b[1;33m(\u001b[0m\u001b[1;34m\"Unknown kernel %r\"\u001b[0m \u001b[1;33m%\u001b[0m \u001b[0mmetric\u001b[0m\u001b[1;33m)\u001b[0m\u001b[1;33m\u001b[0m\u001b[1;33m\u001b[0m\u001b[0m\n\u001b[0;32m   2052\u001b[0m \u001b[1;33m\u001b[0m\u001b[0m\n\u001b[1;32m-> 2053\u001b[1;33m     \u001b[1;32mreturn\u001b[0m \u001b[0m_parallel_pairwise\u001b[0m\u001b[1;33m(\u001b[0m\u001b[0mX\u001b[0m\u001b[1;33m,\u001b[0m \u001b[0mY\u001b[0m\u001b[1;33m,\u001b[0m \u001b[0mfunc\u001b[0m\u001b[1;33m,\u001b[0m \u001b[0mn_jobs\u001b[0m\u001b[1;33m,\u001b[0m \u001b[1;33m**\u001b[0m\u001b[0mkwds\u001b[0m\u001b[1;33m)\u001b[0m\u001b[1;33m\u001b[0m\u001b[1;33m\u001b[0m\u001b[0m\n\u001b[0m",
      "\u001b[1;32mC:\\Anaconda\\anaconda3\\lib\\site-packages\\sklearn\\metrics\\pairwise.py\u001b[0m in \u001b[0;36m_parallel_pairwise\u001b[1;34m(X, Y, func, n_jobs, **kwds)\u001b[0m\n\u001b[0;32m   1428\u001b[0m \u001b[1;33m\u001b[0m\u001b[0m\n\u001b[0;32m   1429\u001b[0m     \u001b[1;32mif\u001b[0m \u001b[0meffective_n_jobs\u001b[0m\u001b[1;33m(\u001b[0m\u001b[0mn_jobs\u001b[0m\u001b[1;33m)\u001b[0m \u001b[1;33m==\u001b[0m \u001b[1;36m1\u001b[0m\u001b[1;33m:\u001b[0m\u001b[1;33m\u001b[0m\u001b[1;33m\u001b[0m\u001b[0m\n\u001b[1;32m-> 1430\u001b[1;33m         \u001b[1;32mreturn\u001b[0m \u001b[0mfunc\u001b[0m\u001b[1;33m(\u001b[0m\u001b[0mX\u001b[0m\u001b[1;33m,\u001b[0m \u001b[0mY\u001b[0m\u001b[1;33m,\u001b[0m \u001b[1;33m**\u001b[0m\u001b[0mkwds\u001b[0m\u001b[1;33m)\u001b[0m\u001b[1;33m\u001b[0m\u001b[1;33m\u001b[0m\u001b[0m\n\u001b[0m\u001b[0;32m   1431\u001b[0m \u001b[1;33m\u001b[0m\u001b[0m\n\u001b[0;32m   1432\u001b[0m     \u001b[1;31m# enforce a threading backend to prevent data communication overhead\u001b[0m\u001b[1;33m\u001b[0m\u001b[1;33m\u001b[0m\u001b[1;33m\u001b[0m\u001b[0m\n",
      "\u001b[1;32mC:\\Anaconda\\anaconda3\\lib\\site-packages\\sklearn\\metrics\\pairwise.py\u001b[0m in \u001b[0;36mlinear_kernel\u001b[1;34m(X, Y, dense_output)\u001b[0m\n\u001b[0;32m   1071\u001b[0m     \"\"\"\n\u001b[0;32m   1072\u001b[0m     \u001b[0mX\u001b[0m\u001b[1;33m,\u001b[0m \u001b[0mY\u001b[0m \u001b[1;33m=\u001b[0m \u001b[0mcheck_pairwise_arrays\u001b[0m\u001b[1;33m(\u001b[0m\u001b[0mX\u001b[0m\u001b[1;33m,\u001b[0m \u001b[0mY\u001b[0m\u001b[1;33m)\u001b[0m\u001b[1;33m\u001b[0m\u001b[1;33m\u001b[0m\u001b[0m\n\u001b[1;32m-> 1073\u001b[1;33m     \u001b[1;32mreturn\u001b[0m \u001b[0msafe_sparse_dot\u001b[0m\u001b[1;33m(\u001b[0m\u001b[0mX\u001b[0m\u001b[1;33m,\u001b[0m \u001b[0mY\u001b[0m\u001b[1;33m.\u001b[0m\u001b[0mT\u001b[0m\u001b[1;33m,\u001b[0m \u001b[0mdense_output\u001b[0m\u001b[1;33m=\u001b[0m\u001b[0mdense_output\u001b[0m\u001b[1;33m)\u001b[0m\u001b[1;33m\u001b[0m\u001b[1;33m\u001b[0m\u001b[0m\n\u001b[0m\u001b[0;32m   1074\u001b[0m \u001b[1;33m\u001b[0m\u001b[0m\n\u001b[0;32m   1075\u001b[0m \u001b[1;33m\u001b[0m\u001b[0m\n",
      "\u001b[1;32mC:\\Anaconda\\anaconda3\\lib\\site-packages\\sklearn\\utils\\extmath.py\u001b[0m in \u001b[0;36msafe_sparse_dot\u001b[1;34m(a, b, dense_output)\u001b[0m\n\u001b[0;32m    151\u001b[0m             \u001b[0mret\u001b[0m \u001b[1;33m=\u001b[0m \u001b[0mnp\u001b[0m\u001b[1;33m.\u001b[0m\u001b[0mdot\u001b[0m\u001b[1;33m(\u001b[0m\u001b[0ma\u001b[0m\u001b[1;33m,\u001b[0m \u001b[0mb\u001b[0m\u001b[1;33m)\u001b[0m\u001b[1;33m\u001b[0m\u001b[1;33m\u001b[0m\u001b[0m\n\u001b[0;32m    152\u001b[0m     \u001b[1;32melse\u001b[0m\u001b[1;33m:\u001b[0m\u001b[1;33m\u001b[0m\u001b[1;33m\u001b[0m\u001b[0m\n\u001b[1;32m--> 153\u001b[1;33m         \u001b[0mret\u001b[0m \u001b[1;33m=\u001b[0m \u001b[0ma\u001b[0m \u001b[1;33m@\u001b[0m \u001b[0mb\u001b[0m\u001b[1;33m\u001b[0m\u001b[1;33m\u001b[0m\u001b[0m\n\u001b[0m\u001b[0;32m    154\u001b[0m \u001b[1;33m\u001b[0m\u001b[0m\n\u001b[0;32m    155\u001b[0m     if (\n",
      "\u001b[1;31mMemoryError\u001b[0m: Unable to allocate 108. GiB for an array with shape (120215, 120215) and data type float64"
     ]
    }
   ],
   "source": [
    "xgb_model = KernelRidge()\n",
    "xgb_model.fit(x_train.values,y_train.values)"
   ]
  },
  {
   "cell_type": "code",
   "execution_count": 40,
   "id": "2f60e496",
   "metadata": {},
   "outputs": [
    {
     "data": {
      "text/plain": [
       "array([-5.53386275e+15, -5.49195604e+15, -5.52767810e+15, ...,\n",
       "       -5.48855957e+15, -5.51501443e+15, -5.52035886e+15])"
      ]
     },
     "execution_count": 40,
     "metadata": {},
     "output_type": "execute_result"
    }
   ],
   "source": [
    "xgb_predictions=xgb_model.predict(x_test.values)\n",
    "xgb_predictions"
   ]
  },
  {
   "cell_type": "code",
   "execution_count": 41,
   "id": "268a79a2",
   "metadata": {},
   "outputs": [
    {
     "data": {
      "text/plain": [
       "-7.144797507122021e+29"
      ]
     },
     "execution_count": 41,
     "metadata": {},
     "output_type": "execute_result"
    }
   ],
   "source": [
    "r2_score(y_test, xgb_predictions)"
   ]
  },
  {
   "cell_type": "markdown",
   "id": "c30c2d4a",
   "metadata": {},
   "source": [
    "# LGBMRegressor"
   ]
  },
  {
   "cell_type": "code",
   "execution_count": 31,
   "id": "0a9c0ff1",
   "metadata": {
    "scrolled": false
   },
   "outputs": [
    {
     "ename": "MemoryError",
     "evalue": "Unable to allocate 108. GiB for an array with shape (120215, 120215) and data type float64",
     "output_type": "error",
     "traceback": [
      "\u001b[1;31m---------------------------------------------------------------------------\u001b[0m",
      "\u001b[1;31mMemoryError\u001b[0m                               Traceback (most recent call last)",
      "\u001b[1;32m<ipython-input-31-548ed5aeb0fb>\u001b[0m in \u001b[0;36m<module>\u001b[1;34m\u001b[0m\n\u001b[0;32m      1\u001b[0m \u001b[0mlgbm_model\u001b[0m \u001b[1;33m=\u001b[0m \u001b[0mKernelRidge\u001b[0m\u001b[1;33m(\u001b[0m\u001b[1;33m)\u001b[0m\u001b[1;33m\u001b[0m\u001b[1;33m\u001b[0m\u001b[0m\n\u001b[1;32m----> 2\u001b[1;33m \u001b[0mlgbm_model\u001b[0m\u001b[1;33m.\u001b[0m\u001b[0mfit\u001b[0m\u001b[1;33m(\u001b[0m\u001b[0mx_train\u001b[0m\u001b[1;33m.\u001b[0m\u001b[0mvalues\u001b[0m\u001b[1;33m,\u001b[0m\u001b[0my_train\u001b[0m\u001b[1;33m.\u001b[0m\u001b[0mvalues\u001b[0m\u001b[1;33m)\u001b[0m\u001b[1;33m\u001b[0m\u001b[1;33m\u001b[0m\u001b[0m\n\u001b[0m",
      "\u001b[1;32mC:\\Anaconda\\anaconda3\\lib\\site-packages\\sklearn\\kernel_ridge.py\u001b[0m in \u001b[0;36mfit\u001b[1;34m(self, X, y, sample_weight)\u001b[0m\n\u001b[0;32m    195\u001b[0m             \u001b[0msample_weight\u001b[0m \u001b[1;33m=\u001b[0m \u001b[0m_check_sample_weight\u001b[0m\u001b[1;33m(\u001b[0m\u001b[0msample_weight\u001b[0m\u001b[1;33m,\u001b[0m \u001b[0mX\u001b[0m\u001b[1;33m)\u001b[0m\u001b[1;33m\u001b[0m\u001b[1;33m\u001b[0m\u001b[0m\n\u001b[0;32m    196\u001b[0m \u001b[1;33m\u001b[0m\u001b[0m\n\u001b[1;32m--> 197\u001b[1;33m         \u001b[0mK\u001b[0m \u001b[1;33m=\u001b[0m \u001b[0mself\u001b[0m\u001b[1;33m.\u001b[0m\u001b[0m_get_kernel\u001b[0m\u001b[1;33m(\u001b[0m\u001b[0mX\u001b[0m\u001b[1;33m)\u001b[0m\u001b[1;33m\u001b[0m\u001b[1;33m\u001b[0m\u001b[0m\n\u001b[0m\u001b[0;32m    198\u001b[0m         \u001b[0malpha\u001b[0m \u001b[1;33m=\u001b[0m \u001b[0mnp\u001b[0m\u001b[1;33m.\u001b[0m\u001b[0matleast_1d\u001b[0m\u001b[1;33m(\u001b[0m\u001b[0mself\u001b[0m\u001b[1;33m.\u001b[0m\u001b[0malpha\u001b[0m\u001b[1;33m)\u001b[0m\u001b[1;33m\u001b[0m\u001b[1;33m\u001b[0m\u001b[0m\n\u001b[0;32m    199\u001b[0m \u001b[1;33m\u001b[0m\u001b[0m\n",
      "\u001b[1;32mC:\\Anaconda\\anaconda3\\lib\\site-packages\\sklearn\\kernel_ridge.py\u001b[0m in \u001b[0;36m_get_kernel\u001b[1;34m(self, X, Y)\u001b[0m\n\u001b[0;32m    153\u001b[0m         \u001b[1;32melse\u001b[0m\u001b[1;33m:\u001b[0m\u001b[1;33m\u001b[0m\u001b[1;33m\u001b[0m\u001b[0m\n\u001b[0;32m    154\u001b[0m             \u001b[0mparams\u001b[0m \u001b[1;33m=\u001b[0m \u001b[1;33m{\u001b[0m\u001b[1;34m\"gamma\"\u001b[0m\u001b[1;33m:\u001b[0m \u001b[0mself\u001b[0m\u001b[1;33m.\u001b[0m\u001b[0mgamma\u001b[0m\u001b[1;33m,\u001b[0m \u001b[1;34m\"degree\"\u001b[0m\u001b[1;33m:\u001b[0m \u001b[0mself\u001b[0m\u001b[1;33m.\u001b[0m\u001b[0mdegree\u001b[0m\u001b[1;33m,\u001b[0m \u001b[1;34m\"coef0\"\u001b[0m\u001b[1;33m:\u001b[0m \u001b[0mself\u001b[0m\u001b[1;33m.\u001b[0m\u001b[0mcoef0\u001b[0m\u001b[1;33m}\u001b[0m\u001b[1;33m\u001b[0m\u001b[1;33m\u001b[0m\u001b[0m\n\u001b[1;32m--> 155\u001b[1;33m         \u001b[1;32mreturn\u001b[0m \u001b[0mpairwise_kernels\u001b[0m\u001b[1;33m(\u001b[0m\u001b[0mX\u001b[0m\u001b[1;33m,\u001b[0m \u001b[0mY\u001b[0m\u001b[1;33m,\u001b[0m \u001b[0mmetric\u001b[0m\u001b[1;33m=\u001b[0m\u001b[0mself\u001b[0m\u001b[1;33m.\u001b[0m\u001b[0mkernel\u001b[0m\u001b[1;33m,\u001b[0m \u001b[0mfilter_params\u001b[0m\u001b[1;33m=\u001b[0m\u001b[1;32mTrue\u001b[0m\u001b[1;33m,\u001b[0m \u001b[1;33m**\u001b[0m\u001b[0mparams\u001b[0m\u001b[1;33m)\u001b[0m\u001b[1;33m\u001b[0m\u001b[1;33m\u001b[0m\u001b[0m\n\u001b[0m\u001b[0;32m    156\u001b[0m \u001b[1;33m\u001b[0m\u001b[0m\n\u001b[0;32m    157\u001b[0m     \u001b[1;32mdef\u001b[0m \u001b[0m_more_tags\u001b[0m\u001b[1;33m(\u001b[0m\u001b[0mself\u001b[0m\u001b[1;33m)\u001b[0m\u001b[1;33m:\u001b[0m\u001b[1;33m\u001b[0m\u001b[1;33m\u001b[0m\u001b[0m\n",
      "\u001b[1;32mC:\\Anaconda\\anaconda3\\lib\\site-packages\\sklearn\\metrics\\pairwise.py\u001b[0m in \u001b[0;36mpairwise_kernels\u001b[1;34m(X, Y, metric, filter_params, n_jobs, **kwds)\u001b[0m\n\u001b[0;32m   2051\u001b[0m         \u001b[1;32mraise\u001b[0m \u001b[0mValueError\u001b[0m\u001b[1;33m(\u001b[0m\u001b[1;34m\"Unknown kernel %r\"\u001b[0m \u001b[1;33m%\u001b[0m \u001b[0mmetric\u001b[0m\u001b[1;33m)\u001b[0m\u001b[1;33m\u001b[0m\u001b[1;33m\u001b[0m\u001b[0m\n\u001b[0;32m   2052\u001b[0m \u001b[1;33m\u001b[0m\u001b[0m\n\u001b[1;32m-> 2053\u001b[1;33m     \u001b[1;32mreturn\u001b[0m \u001b[0m_parallel_pairwise\u001b[0m\u001b[1;33m(\u001b[0m\u001b[0mX\u001b[0m\u001b[1;33m,\u001b[0m \u001b[0mY\u001b[0m\u001b[1;33m,\u001b[0m \u001b[0mfunc\u001b[0m\u001b[1;33m,\u001b[0m \u001b[0mn_jobs\u001b[0m\u001b[1;33m,\u001b[0m \u001b[1;33m**\u001b[0m\u001b[0mkwds\u001b[0m\u001b[1;33m)\u001b[0m\u001b[1;33m\u001b[0m\u001b[1;33m\u001b[0m\u001b[0m\n\u001b[0m",
      "\u001b[1;32mC:\\Anaconda\\anaconda3\\lib\\site-packages\\sklearn\\metrics\\pairwise.py\u001b[0m in \u001b[0;36m_parallel_pairwise\u001b[1;34m(X, Y, func, n_jobs, **kwds)\u001b[0m\n\u001b[0;32m   1428\u001b[0m \u001b[1;33m\u001b[0m\u001b[0m\n\u001b[0;32m   1429\u001b[0m     \u001b[1;32mif\u001b[0m \u001b[0meffective_n_jobs\u001b[0m\u001b[1;33m(\u001b[0m\u001b[0mn_jobs\u001b[0m\u001b[1;33m)\u001b[0m \u001b[1;33m==\u001b[0m \u001b[1;36m1\u001b[0m\u001b[1;33m:\u001b[0m\u001b[1;33m\u001b[0m\u001b[1;33m\u001b[0m\u001b[0m\n\u001b[1;32m-> 1430\u001b[1;33m         \u001b[1;32mreturn\u001b[0m \u001b[0mfunc\u001b[0m\u001b[1;33m(\u001b[0m\u001b[0mX\u001b[0m\u001b[1;33m,\u001b[0m \u001b[0mY\u001b[0m\u001b[1;33m,\u001b[0m \u001b[1;33m**\u001b[0m\u001b[0mkwds\u001b[0m\u001b[1;33m)\u001b[0m\u001b[1;33m\u001b[0m\u001b[1;33m\u001b[0m\u001b[0m\n\u001b[0m\u001b[0;32m   1431\u001b[0m \u001b[1;33m\u001b[0m\u001b[0m\n\u001b[0;32m   1432\u001b[0m     \u001b[1;31m# enforce a threading backend to prevent data communication overhead\u001b[0m\u001b[1;33m\u001b[0m\u001b[1;33m\u001b[0m\u001b[1;33m\u001b[0m\u001b[0m\n",
      "\u001b[1;32mC:\\Anaconda\\anaconda3\\lib\\site-packages\\sklearn\\metrics\\pairwise.py\u001b[0m in \u001b[0;36mlinear_kernel\u001b[1;34m(X, Y, dense_output)\u001b[0m\n\u001b[0;32m   1071\u001b[0m     \"\"\"\n\u001b[0;32m   1072\u001b[0m     \u001b[0mX\u001b[0m\u001b[1;33m,\u001b[0m \u001b[0mY\u001b[0m \u001b[1;33m=\u001b[0m \u001b[0mcheck_pairwise_arrays\u001b[0m\u001b[1;33m(\u001b[0m\u001b[0mX\u001b[0m\u001b[1;33m,\u001b[0m \u001b[0mY\u001b[0m\u001b[1;33m)\u001b[0m\u001b[1;33m\u001b[0m\u001b[1;33m\u001b[0m\u001b[0m\n\u001b[1;32m-> 1073\u001b[1;33m     \u001b[1;32mreturn\u001b[0m \u001b[0msafe_sparse_dot\u001b[0m\u001b[1;33m(\u001b[0m\u001b[0mX\u001b[0m\u001b[1;33m,\u001b[0m \u001b[0mY\u001b[0m\u001b[1;33m.\u001b[0m\u001b[0mT\u001b[0m\u001b[1;33m,\u001b[0m \u001b[0mdense_output\u001b[0m\u001b[1;33m=\u001b[0m\u001b[0mdense_output\u001b[0m\u001b[1;33m)\u001b[0m\u001b[1;33m\u001b[0m\u001b[1;33m\u001b[0m\u001b[0m\n\u001b[0m\u001b[0;32m   1074\u001b[0m \u001b[1;33m\u001b[0m\u001b[0m\n\u001b[0;32m   1075\u001b[0m \u001b[1;33m\u001b[0m\u001b[0m\n",
      "\u001b[1;32mC:\\Anaconda\\anaconda3\\lib\\site-packages\\sklearn\\utils\\extmath.py\u001b[0m in \u001b[0;36msafe_sparse_dot\u001b[1;34m(a, b, dense_output)\u001b[0m\n\u001b[0;32m    151\u001b[0m             \u001b[0mret\u001b[0m \u001b[1;33m=\u001b[0m \u001b[0mnp\u001b[0m\u001b[1;33m.\u001b[0m\u001b[0mdot\u001b[0m\u001b[1;33m(\u001b[0m\u001b[0ma\u001b[0m\u001b[1;33m,\u001b[0m \u001b[0mb\u001b[0m\u001b[1;33m)\u001b[0m\u001b[1;33m\u001b[0m\u001b[1;33m\u001b[0m\u001b[0m\n\u001b[0;32m    152\u001b[0m     \u001b[1;32melse\u001b[0m\u001b[1;33m:\u001b[0m\u001b[1;33m\u001b[0m\u001b[1;33m\u001b[0m\u001b[0m\n\u001b[1;32m--> 153\u001b[1;33m         \u001b[0mret\u001b[0m \u001b[1;33m=\u001b[0m \u001b[0ma\u001b[0m \u001b[1;33m@\u001b[0m \u001b[0mb\u001b[0m\u001b[1;33m\u001b[0m\u001b[1;33m\u001b[0m\u001b[0m\n\u001b[0m\u001b[0;32m    154\u001b[0m \u001b[1;33m\u001b[0m\u001b[0m\n\u001b[0;32m    155\u001b[0m     if (\n",
      "\u001b[1;31mMemoryError\u001b[0m: Unable to allocate 108. GiB for an array with shape (120215, 120215) and data type float64"
     ]
    }
   ],
   "source": [
    "lgbm_model = KernelRidge()\n",
    "lgbm_model.fit(x_train.values,y_train.values)"
   ]
  },
  {
   "cell_type": "code",
   "execution_count": 32,
   "id": "a092f178",
   "metadata": {},
   "outputs": [
    {
     "ename": "AttributeError",
     "evalue": "'KernelRidge' object has no attribute 'X_fit_'",
     "output_type": "error",
     "traceback": [
      "\u001b[1;31m---------------------------------------------------------------------------\u001b[0m",
      "\u001b[1;31mAttributeError\u001b[0m                            Traceback (most recent call last)",
      "\u001b[1;32m<ipython-input-32-9377f9fe3023>\u001b[0m in \u001b[0;36m<module>\u001b[1;34m\u001b[0m\n\u001b[1;32m----> 1\u001b[1;33m \u001b[0mlgbm_predictions\u001b[0m\u001b[1;33m=\u001b[0m\u001b[0mlgbm_model\u001b[0m\u001b[1;33m.\u001b[0m\u001b[0mpredict\u001b[0m\u001b[1;33m(\u001b[0m\u001b[0mx_test\u001b[0m\u001b[1;33m.\u001b[0m\u001b[0mvalues\u001b[0m\u001b[1;33m)\u001b[0m\u001b[1;33m\u001b[0m\u001b[1;33m\u001b[0m\u001b[0m\n\u001b[0m\u001b[0;32m      2\u001b[0m \u001b[0mlgbm_predictions\u001b[0m\u001b[1;33m\u001b[0m\u001b[1;33m\u001b[0m\u001b[0m\n",
      "\u001b[1;32mC:\\Anaconda\\anaconda3\\lib\\site-packages\\sklearn\\kernel_ridge.py\u001b[0m in \u001b[0;36mpredict\u001b[1;34m(self, X)\u001b[0m\n\u001b[0;32m    230\u001b[0m         \u001b[0mcheck_is_fitted\u001b[0m\u001b[1;33m(\u001b[0m\u001b[0mself\u001b[0m\u001b[1;33m)\u001b[0m\u001b[1;33m\u001b[0m\u001b[1;33m\u001b[0m\u001b[0m\n\u001b[0;32m    231\u001b[0m         \u001b[0mX\u001b[0m \u001b[1;33m=\u001b[0m \u001b[0mself\u001b[0m\u001b[1;33m.\u001b[0m\u001b[0m_validate_data\u001b[0m\u001b[1;33m(\u001b[0m\u001b[0mX\u001b[0m\u001b[1;33m,\u001b[0m \u001b[0maccept_sparse\u001b[0m\u001b[1;33m=\u001b[0m\u001b[1;33m(\u001b[0m\u001b[1;34m\"csr\"\u001b[0m\u001b[1;33m,\u001b[0m \u001b[1;34m\"csc\"\u001b[0m\u001b[1;33m)\u001b[0m\u001b[1;33m,\u001b[0m \u001b[0mreset\u001b[0m\u001b[1;33m=\u001b[0m\u001b[1;32mFalse\u001b[0m\u001b[1;33m)\u001b[0m\u001b[1;33m\u001b[0m\u001b[1;33m\u001b[0m\u001b[0m\n\u001b[1;32m--> 232\u001b[1;33m         \u001b[0mK\u001b[0m \u001b[1;33m=\u001b[0m \u001b[0mself\u001b[0m\u001b[1;33m.\u001b[0m\u001b[0m_get_kernel\u001b[0m\u001b[1;33m(\u001b[0m\u001b[0mX\u001b[0m\u001b[1;33m,\u001b[0m \u001b[0mself\u001b[0m\u001b[1;33m.\u001b[0m\u001b[0mX_fit_\u001b[0m\u001b[1;33m)\u001b[0m\u001b[1;33m\u001b[0m\u001b[1;33m\u001b[0m\u001b[0m\n\u001b[0m\u001b[0;32m    233\u001b[0m         \u001b[1;32mreturn\u001b[0m \u001b[0mnp\u001b[0m\u001b[1;33m.\u001b[0m\u001b[0mdot\u001b[0m\u001b[1;33m(\u001b[0m\u001b[0mK\u001b[0m\u001b[1;33m,\u001b[0m \u001b[0mself\u001b[0m\u001b[1;33m.\u001b[0m\u001b[0mdual_coef_\u001b[0m\u001b[1;33m)\u001b[0m\u001b[1;33m\u001b[0m\u001b[1;33m\u001b[0m\u001b[0m\n",
      "\u001b[1;31mAttributeError\u001b[0m: 'KernelRidge' object has no attribute 'X_fit_'"
     ]
    }
   ],
   "source": [
    "lgbm_predictions=lgbm_model.predict(x_test.values)\n",
    "lgbm_predictions"
   ]
  },
  {
   "cell_type": "code",
   "execution_count": 41,
   "id": "3b1ccfcc",
   "metadata": {},
   "outputs": [
    {
     "data": {
      "text/plain": [
       "-7.144797507122021e+29"
      ]
     },
     "execution_count": 41,
     "metadata": {},
     "output_type": "execute_result"
    }
   ],
   "source": [
    "r2_score(y_test, lgbm_predictions)"
   ]
  },
  {
   "cell_type": "markdown",
   "id": "f3dc9ec4",
   "metadata": {},
   "source": [
    "# Evaluation data"
   ]
  },
  {
   "cell_type": "code",
   "execution_count": 4,
   "id": "96078846",
   "metadata": {},
   "outputs": [
    {
     "data": {
      "text/html": [
       "<div>\n",
       "<style scoped>\n",
       "    .dataframe tbody tr th:only-of-type {\n",
       "        vertical-align: middle;\n",
       "    }\n",
       "\n",
       "    .dataframe tbody tr th {\n",
       "        vertical-align: top;\n",
       "    }\n",
       "\n",
       "    .dataframe thead th {\n",
       "        text-align: right;\n",
       "    }\n",
       "</style>\n",
       "<table border=\"1\" class=\"dataframe\">\n",
       "  <thead>\n",
       "    <tr style=\"text-align: right;\">\n",
       "      <th></th>\n",
       "      <th>Condition No. 1</th>\n",
       "      <th>Condition No. 2</th>\n",
       "      <th>Condition No. 3</th>\n",
       "      <th>Condition No. 4</th>\n",
       "      <th>Condition No. 5</th>\n",
       "      <th>Condition No. 6</th>\n",
       "      <th>Condition No. 7</th>\n",
       "      <th>Condition No. 8</th>\n",
       "      <th>Condition No. 9</th>\n",
       "      <th>Condition No. 10</th>\n",
       "      <th>...</th>\n",
       "      <th>Condition No. 25</th>\n",
       "      <th>Condition No. 26</th>\n",
       "      <th>Condition No. 27</th>\n",
       "      <th>Condition No. 28</th>\n",
       "      <th>Condition No. 29</th>\n",
       "      <th>Condition No. 37</th>\n",
       "      <th>Condition No. 35</th>\n",
       "      <th>Condition No. 41</th>\n",
       "      <th>Condition No. 42</th>\n",
       "      <th>Targetted Condition No. 1</th>\n",
       "    </tr>\n",
       "  </thead>\n",
       "  <tbody>\n",
       "    <tr>\n",
       "      <th>0</th>\n",
       "      <td>3687.5</td>\n",
       "      <td>4510.6</td>\n",
       "      <td>9.3160</td>\n",
       "      <td>26.734</td>\n",
       "      <td>42.511</td>\n",
       "      <td>74.935</td>\n",
       "      <td>120.42</td>\n",
       "      <td>0.33407</td>\n",
       "      <td>80.345</td>\n",
       "      <td>24.203</td>\n",
       "      <td>...</td>\n",
       "      <td>4.9187</td>\n",
       "      <td>2.3120</td>\n",
       "      <td>0.018975</td>\n",
       "      <td>0.84982</td>\n",
       "      <td>0.107870</td>\n",
       "      <td>53.729</td>\n",
       "      <td>43.107</td>\n",
       "      <td>130.439769</td>\n",
       "      <td>1975.095664</td>\n",
       "      <td>3098.8</td>\n",
       "    </tr>\n",
       "    <tr>\n",
       "      <th>1</th>\n",
       "      <td>3685.5</td>\n",
       "      <td>4511.5</td>\n",
       "      <td>9.3103</td>\n",
       "      <td>26.661</td>\n",
       "      <td>42.478</td>\n",
       "      <td>75.888</td>\n",
       "      <td>120.41</td>\n",
       "      <td>0.32859</td>\n",
       "      <td>79.935</td>\n",
       "      <td>26.669</td>\n",
       "      <td>...</td>\n",
       "      <td>4.7347</td>\n",
       "      <td>2.2965</td>\n",
       "      <td>0.021290</td>\n",
       "      <td>0.85223</td>\n",
       "      <td>0.119180</td>\n",
       "      <td>54.179</td>\n",
       "      <td>45.041</td>\n",
       "      <td>130.296577</td>\n",
       "      <td>1975.105411</td>\n",
       "      <td>3113.9</td>\n",
       "    </tr>\n",
       "    <tr>\n",
       "      <th>2</th>\n",
       "      <td>3682.8</td>\n",
       "      <td>4570.5</td>\n",
       "      <td>9.2759</td>\n",
       "      <td>26.653</td>\n",
       "      <td>42.224</td>\n",
       "      <td>75.779</td>\n",
       "      <td>120.43</td>\n",
       "      <td>0.35016</td>\n",
       "      <td>80.379</td>\n",
       "      <td>23.216</td>\n",
       "      <td>...</td>\n",
       "      <td>4.8275</td>\n",
       "      <td>2.2578</td>\n",
       "      <td>0.015472</td>\n",
       "      <td>0.81907</td>\n",
       "      <td>0.098032</td>\n",
       "      <td>54.413</td>\n",
       "      <td>42.933</td>\n",
       "      <td>130.280885</td>\n",
       "      <td>1975.091763</td>\n",
       "      <td>3100.0</td>\n",
       "    </tr>\n",
       "    <tr>\n",
       "      <th>3</th>\n",
       "      <td>3573.8</td>\n",
       "      <td>4547.2</td>\n",
       "      <td>9.3265</td>\n",
       "      <td>26.517</td>\n",
       "      <td>42.246</td>\n",
       "      <td>74.906</td>\n",
       "      <td>120.38</td>\n",
       "      <td>0.33413</td>\n",
       "      <td>80.407</td>\n",
       "      <td>25.154</td>\n",
       "      <td>...</td>\n",
       "      <td>4.8399</td>\n",
       "      <td>2.3040</td>\n",
       "      <td>0.007096</td>\n",
       "      <td>0.84621</td>\n",
       "      <td>0.101700</td>\n",
       "      <td>53.603</td>\n",
       "      <td>44.186</td>\n",
       "      <td>130.014115</td>\n",
       "      <td>1975.099423</td>\n",
       "      <td>3102.7</td>\n",
       "    </tr>\n",
       "    <tr>\n",
       "      <th>4</th>\n",
       "      <td>3644.3</td>\n",
       "      <td>4530.7</td>\n",
       "      <td>9.3318</td>\n",
       "      <td>27.119</td>\n",
       "      <td>42.199</td>\n",
       "      <td>75.036</td>\n",
       "      <td>120.42</td>\n",
       "      <td>0.34601</td>\n",
       "      <td>80.233</td>\n",
       "      <td>24.941</td>\n",
       "      <td>...</td>\n",
       "      <td>4.8477</td>\n",
       "      <td>2.2572</td>\n",
       "      <td>0.023564</td>\n",
       "      <td>0.83298</td>\n",
       "      <td>0.097448</td>\n",
       "      <td>52.915</td>\n",
       "      <td>43.488</td>\n",
       "      <td>131.194962</td>\n",
       "      <td>1975.098581</td>\n",
       "      <td>3107.4</td>\n",
       "    </tr>\n",
       "    <tr>\n",
       "      <th>...</th>\n",
       "      <td>...</td>\n",
       "      <td>...</td>\n",
       "      <td>...</td>\n",
       "      <td>...</td>\n",
       "      <td>...</td>\n",
       "      <td>...</td>\n",
       "      <td>...</td>\n",
       "      <td>...</td>\n",
       "      <td>...</td>\n",
       "      <td>...</td>\n",
       "      <td>...</td>\n",
       "      <td>...</td>\n",
       "      <td>...</td>\n",
       "      <td>...</td>\n",
       "      <td>...</td>\n",
       "      <td>...</td>\n",
       "      <td>...</td>\n",
       "      <td>...</td>\n",
       "      <td>...</td>\n",
       "      <td>...</td>\n",
       "      <td>...</td>\n",
       "    </tr>\n",
       "    <tr>\n",
       "      <th>150264</th>\n",
       "      <td>3602.0</td>\n",
       "      <td>4488.5</td>\n",
       "      <td>9.2903</td>\n",
       "      <td>26.737</td>\n",
       "      <td>42.304</td>\n",
       "      <td>74.364</td>\n",
       "      <td>120.39</td>\n",
       "      <td>0.33959</td>\n",
       "      <td>80.119</td>\n",
       "      <td>25.181</td>\n",
       "      <td>...</td>\n",
       "      <td>4.8674</td>\n",
       "      <td>2.3276</td>\n",
       "      <td>0.010042</td>\n",
       "      <td>0.88338</td>\n",
       "      <td>0.095266</td>\n",
       "      <td>53.332</td>\n",
       "      <td>43.710</td>\n",
       "      <td>130.445654</td>\n",
       "      <td>1975.099530</td>\n",
       "      <td>3108.0</td>\n",
       "    </tr>\n",
       "    <tr>\n",
       "      <th>150265</th>\n",
       "      <td>3658.9</td>\n",
       "      <td>4541.8</td>\n",
       "      <td>9.4212</td>\n",
       "      <td>26.887</td>\n",
       "      <td>42.675</td>\n",
       "      <td>76.042</td>\n",
       "      <td>120.42</td>\n",
       "      <td>0.34050</td>\n",
       "      <td>79.780</td>\n",
       "      <td>23.205</td>\n",
       "      <td>...</td>\n",
       "      <td>4.8172</td>\n",
       "      <td>2.2964</td>\n",
       "      <td>0.038459</td>\n",
       "      <td>0.81802</td>\n",
       "      <td>0.087961</td>\n",
       "      <td>53.466</td>\n",
       "      <td>43.087</td>\n",
       "      <td>130.739885</td>\n",
       "      <td>1975.091719</td>\n",
       "      <td>3116.9</td>\n",
       "    </tr>\n",
       "    <tr>\n",
       "      <th>150266</th>\n",
       "      <td>3664.7</td>\n",
       "      <td>4481.6</td>\n",
       "      <td>9.3381</td>\n",
       "      <td>27.136</td>\n",
       "      <td>41.835</td>\n",
       "      <td>74.236</td>\n",
       "      <td>120.42</td>\n",
       "      <td>0.31717</td>\n",
       "      <td>80.462</td>\n",
       "      <td>23.216</td>\n",
       "      <td>...</td>\n",
       "      <td>4.8518</td>\n",
       "      <td>2.2640</td>\n",
       "      <td>-0.002473</td>\n",
       "      <td>0.82219</td>\n",
       "      <td>0.106110</td>\n",
       "      <td>54.474</td>\n",
       "      <td>43.263</td>\n",
       "      <td>131.228308</td>\n",
       "      <td>1975.091763</td>\n",
       "      <td>3101.4</td>\n",
       "    </tr>\n",
       "    <tr>\n",
       "      <th>150267</th>\n",
       "      <td>3716.2</td>\n",
       "      <td>4502.5</td>\n",
       "      <td>9.4016</td>\n",
       "      <td>26.967</td>\n",
       "      <td>41.867</td>\n",
       "      <td>74.662</td>\n",
       "      <td>120.43</td>\n",
       "      <td>0.34990</td>\n",
       "      <td>80.211</td>\n",
       "      <td>25.184</td>\n",
       "      <td>...</td>\n",
       "      <td>4.7766</td>\n",
       "      <td>2.3251</td>\n",
       "      <td>0.018484</td>\n",
       "      <td>0.81109</td>\n",
       "      <td>0.106320</td>\n",
       "      <td>53.571</td>\n",
       "      <td>43.846</td>\n",
       "      <td>130.896808</td>\n",
       "      <td>1975.099542</td>\n",
       "      <td>3096.8</td>\n",
       "    </tr>\n",
       "    <tr>\n",
       "      <th>150268</th>\n",
       "      <td>3716.2</td>\n",
       "      <td>4502.5</td>\n",
       "      <td>9.4016</td>\n",
       "      <td>26.967</td>\n",
       "      <td>41.867</td>\n",
       "      <td>74.662</td>\n",
       "      <td>120.43</td>\n",
       "      <td>0.34990</td>\n",
       "      <td>80.211</td>\n",
       "      <td>25.184</td>\n",
       "      <td>...</td>\n",
       "      <td>4.7766</td>\n",
       "      <td>2.3251</td>\n",
       "      <td>0.018484</td>\n",
       "      <td>0.81109</td>\n",
       "      <td>0.106320</td>\n",
       "      <td>53.571</td>\n",
       "      <td>43.846</td>\n",
       "      <td>130.896808</td>\n",
       "      <td>1975.099542</td>\n",
       "      <td>3096.8</td>\n",
       "    </tr>\n",
       "  </tbody>\n",
       "</table>\n",
       "<p>150269 rows × 34 columns</p>\n",
       "</div>"
      ],
      "text/plain": [
       "        Condition No. 1  Condition No. 2  Condition No. 3  Condition No. 4  \\\n",
       "0                3687.5           4510.6           9.3160           26.734   \n",
       "1                3685.5           4511.5           9.3103           26.661   \n",
       "2                3682.8           4570.5           9.2759           26.653   \n",
       "3                3573.8           4547.2           9.3265           26.517   \n",
       "4                3644.3           4530.7           9.3318           27.119   \n",
       "...                 ...              ...              ...              ...   \n",
       "150264           3602.0           4488.5           9.2903           26.737   \n",
       "150265           3658.9           4541.8           9.4212           26.887   \n",
       "150266           3664.7           4481.6           9.3381           27.136   \n",
       "150267           3716.2           4502.5           9.4016           26.967   \n",
       "150268           3716.2           4502.5           9.4016           26.967   \n",
       "\n",
       "        Condition No. 5  Condition No. 6  Condition No. 7  Condition No. 8  \\\n",
       "0                42.511           74.935           120.42          0.33407   \n",
       "1                42.478           75.888           120.41          0.32859   \n",
       "2                42.224           75.779           120.43          0.35016   \n",
       "3                42.246           74.906           120.38          0.33413   \n",
       "4                42.199           75.036           120.42          0.34601   \n",
       "...                 ...              ...              ...              ...   \n",
       "150264           42.304           74.364           120.39          0.33959   \n",
       "150265           42.675           76.042           120.42          0.34050   \n",
       "150266           41.835           74.236           120.42          0.31717   \n",
       "150267           41.867           74.662           120.43          0.34990   \n",
       "150268           41.867           74.662           120.43          0.34990   \n",
       "\n",
       "        Condition No. 9  Condition No. 10  ...  Condition No. 25  \\\n",
       "0                80.345            24.203  ...            4.9187   \n",
       "1                79.935            26.669  ...            4.7347   \n",
       "2                80.379            23.216  ...            4.8275   \n",
       "3                80.407            25.154  ...            4.8399   \n",
       "4                80.233            24.941  ...            4.8477   \n",
       "...                 ...               ...  ...               ...   \n",
       "150264           80.119            25.181  ...            4.8674   \n",
       "150265           79.780            23.205  ...            4.8172   \n",
       "150266           80.462            23.216  ...            4.8518   \n",
       "150267           80.211            25.184  ...            4.7766   \n",
       "150268           80.211            25.184  ...            4.7766   \n",
       "\n",
       "        Condition No. 26  Condition No. 27  Condition No. 28  \\\n",
       "0                 2.3120          0.018975           0.84982   \n",
       "1                 2.2965          0.021290           0.85223   \n",
       "2                 2.2578          0.015472           0.81907   \n",
       "3                 2.3040          0.007096           0.84621   \n",
       "4                 2.2572          0.023564           0.83298   \n",
       "...                  ...               ...               ...   \n",
       "150264            2.3276          0.010042           0.88338   \n",
       "150265            2.2964          0.038459           0.81802   \n",
       "150266            2.2640         -0.002473           0.82219   \n",
       "150267            2.3251          0.018484           0.81109   \n",
       "150268            2.3251          0.018484           0.81109   \n",
       "\n",
       "        Condition No. 29  Condition No. 37  Condition No. 35  \\\n",
       "0               0.107870            53.729            43.107   \n",
       "1               0.119180            54.179            45.041   \n",
       "2               0.098032            54.413            42.933   \n",
       "3               0.101700            53.603            44.186   \n",
       "4               0.097448            52.915            43.488   \n",
       "...                  ...               ...               ...   \n",
       "150264          0.095266            53.332            43.710   \n",
       "150265          0.087961            53.466            43.087   \n",
       "150266          0.106110            54.474            43.263   \n",
       "150267          0.106320            53.571            43.846   \n",
       "150268          0.106320            53.571            43.846   \n",
       "\n",
       "        Condition No. 41  Condition No. 42  Targetted Condition No. 1  \n",
       "0             130.439769       1975.095664                     3098.8  \n",
       "1             130.296577       1975.105411                     3113.9  \n",
       "2             130.280885       1975.091763                     3100.0  \n",
       "3             130.014115       1975.099423                     3102.7  \n",
       "4             131.194962       1975.098581                     3107.4  \n",
       "...                  ...               ...                        ...  \n",
       "150264        130.445654       1975.099530                     3108.0  \n",
       "150265        130.739885       1975.091719                     3116.9  \n",
       "150266        131.228308       1975.091763                     3101.4  \n",
       "150267        130.896808       1975.099542                     3096.8  \n",
       "150268        130.896808       1975.099542                     3096.8  \n",
       "\n",
       "[150269 rows x 34 columns]"
      ]
     },
     "execution_count": 4,
     "metadata": {},
     "output_type": "execute_result"
    }
   ],
   "source": [
    "all_data=pandas.read_csv(\"Training Dataset.csv\")\n",
    "all_data"
   ]
  },
  {
   "cell_type": "code",
   "execution_count": 5,
   "id": "8b919ae9",
   "metadata": {},
   "outputs": [
    {
     "data": {
      "text/plain": [
       "0         3098.8\n",
       "1         3113.9\n",
       "2         3100.0\n",
       "3         3102.7\n",
       "4         3107.4\n",
       "           ...  \n",
       "150264    3108.0\n",
       "150265    3116.9\n",
       "150266    3101.4\n",
       "150267    3096.8\n",
       "150268    3096.8\n",
       "Name: Targetted Condition No. 1, Length: 150269, dtype: float64"
      ]
     },
     "execution_count": 5,
     "metadata": {},
     "output_type": "execute_result"
    }
   ],
   "source": [
    "x=all_data.drop(columns=['Targetted Condition No. 1'])\n",
    "y=all_data['Targetted Condition No. 1']\n",
    "y"
   ]
  },
  {
   "cell_type": "code",
   "execution_count": 7,
   "id": "fd4a9616",
   "metadata": {},
   "outputs": [],
   "source": [
    "x_train, x_test, y_train, y_test = train_test_split(x, y, test_size=0.05)"
   ]
  },
  {
   "cell_type": "markdown",
   "id": "5fdcadf5",
   "metadata": {},
   "source": [
    "# evaluation "
   ]
  },
  {
   "cell_type": "code",
   "execution_count": 14,
   "id": "1d0e09d5",
   "metadata": {},
   "outputs": [
    {
     "data": {
      "text/html": [
       "<div>\n",
       "<style scoped>\n",
       "    .dataframe tbody tr th:only-of-type {\n",
       "        vertical-align: middle;\n",
       "    }\n",
       "\n",
       "    .dataframe tbody tr th {\n",
       "        vertical-align: top;\n",
       "    }\n",
       "\n",
       "    .dataframe thead th {\n",
       "        text-align: right;\n",
       "    }\n",
       "</style>\n",
       "<table border=\"1\" class=\"dataframe\">\n",
       "  <thead>\n",
       "    <tr style=\"text-align: right;\">\n",
       "      <th></th>\n",
       "      <th>Condition No. 1</th>\n",
       "      <th>Condition No. 2</th>\n",
       "      <th>Condition No. 3</th>\n",
       "      <th>Condition No. 4</th>\n",
       "      <th>Condition No. 5</th>\n",
       "      <th>Condition No. 6</th>\n",
       "      <th>Condition No. 7</th>\n",
       "      <th>Condition No. 8</th>\n",
       "      <th>Condition No. 9</th>\n",
       "      <th>Condition No. 10</th>\n",
       "      <th>...</th>\n",
       "      <th>Condition No. 24</th>\n",
       "      <th>Condition No. 25</th>\n",
       "      <th>Condition No. 26</th>\n",
       "      <th>Condition No. 27</th>\n",
       "      <th>Condition No. 28</th>\n",
       "      <th>Condition No. 29</th>\n",
       "      <th>Condition No. 37</th>\n",
       "      <th>Condition No. 35</th>\n",
       "      <th>Condition No. 41</th>\n",
       "      <th>Condition No. 42</th>\n",
       "    </tr>\n",
       "  </thead>\n",
       "  <tbody>\n",
       "    <tr>\n",
       "      <th>0</th>\n",
       "      <td>3633.0</td>\n",
       "      <td>4491.6</td>\n",
       "      <td>9.3233</td>\n",
       "      <td>27.020</td>\n",
       "      <td>42.401</td>\n",
       "      <td>74.366</td>\n",
       "      <td>120.42</td>\n",
       "      <td>0.34398</td>\n",
       "      <td>80.054</td>\n",
       "      <td>26.191</td>\n",
       "      <td>...</td>\n",
       "      <td>2.2794</td>\n",
       "      <td>4.8459</td>\n",
       "      <td>2.3389</td>\n",
       "      <td>-0.002351</td>\n",
       "      <td>0.85592</td>\n",
       "      <td>0.092412</td>\n",
       "      <td>53.696</td>\n",
       "      <td>43.342</td>\n",
       "      <td>131.000769</td>\n",
       "      <td>1975.103522</td>\n",
       "    </tr>\n",
       "    <tr>\n",
       "      <th>1</th>\n",
       "      <td>3654.7</td>\n",
       "      <td>4526.4</td>\n",
       "      <td>9.2720</td>\n",
       "      <td>26.838</td>\n",
       "      <td>42.280</td>\n",
       "      <td>75.423</td>\n",
       "      <td>120.40</td>\n",
       "      <td>0.34092</td>\n",
       "      <td>79.798</td>\n",
       "      <td>25.120</td>\n",
       "      <td>...</td>\n",
       "      <td>2.2798</td>\n",
       "      <td>4.8528</td>\n",
       "      <td>2.2791</td>\n",
       "      <td>0.003044</td>\n",
       "      <td>0.83471</td>\n",
       "      <td>0.117330</td>\n",
       "      <td>54.647</td>\n",
       "      <td>43.590</td>\n",
       "      <td>130.643769</td>\n",
       "      <td>1975.099289</td>\n",
       "    </tr>\n",
       "    <tr>\n",
       "      <th>2</th>\n",
       "      <td>3655.9</td>\n",
       "      <td>4468.3</td>\n",
       "      <td>9.3669</td>\n",
       "      <td>26.702</td>\n",
       "      <td>41.850</td>\n",
       "      <td>75.461</td>\n",
       "      <td>120.40</td>\n",
       "      <td>0.36692</td>\n",
       "      <td>80.222</td>\n",
       "      <td>23.749</td>\n",
       "      <td>...</td>\n",
       "      <td>2.2694</td>\n",
       "      <td>4.7115</td>\n",
       "      <td>2.2466</td>\n",
       "      <td>0.024026</td>\n",
       "      <td>0.81435</td>\n",
       "      <td>0.099781</td>\n",
       "      <td>53.348</td>\n",
       "      <td>44.683</td>\n",
       "      <td>130.377000</td>\n",
       "      <td>1975.093870</td>\n",
       "    </tr>\n",
       "    <tr>\n",
       "      <th>3</th>\n",
       "      <td>3689.9</td>\n",
       "      <td>4532.0</td>\n",
       "      <td>9.4211</td>\n",
       "      <td>26.918</td>\n",
       "      <td>42.311</td>\n",
       "      <td>73.959</td>\n",
       "      <td>120.41</td>\n",
       "      <td>0.34800</td>\n",
       "      <td>80.085</td>\n",
       "      <td>25.954</td>\n",
       "      <td>...</td>\n",
       "      <td>2.2522</td>\n",
       "      <td>4.8880</td>\n",
       "      <td>2.3085</td>\n",
       "      <td>0.027168</td>\n",
       "      <td>0.83669</td>\n",
       "      <td>0.092316</td>\n",
       "      <td>53.861</td>\n",
       "      <td>43.891</td>\n",
       "      <td>130.800692</td>\n",
       "      <td>1975.102585</td>\n",
       "    </tr>\n",
       "    <tr>\n",
       "      <th>4</th>\n",
       "      <td>3687.9</td>\n",
       "      <td>4494.1</td>\n",
       "      <td>9.5047</td>\n",
       "      <td>26.565</td>\n",
       "      <td>42.208</td>\n",
       "      <td>75.249</td>\n",
       "      <td>120.40</td>\n",
       "      <td>0.34721</td>\n",
       "      <td>80.130</td>\n",
       "      <td>25.739</td>\n",
       "      <td>...</td>\n",
       "      <td>2.2967</td>\n",
       "      <td>4.9020</td>\n",
       "      <td>2.2538</td>\n",
       "      <td>0.016510</td>\n",
       "      <td>0.80269</td>\n",
       "      <td>0.101690</td>\n",
       "      <td>53.474</td>\n",
       "      <td>43.455</td>\n",
       "      <td>130.108269</td>\n",
       "      <td>1975.101735</td>\n",
       "    </tr>\n",
       "    <tr>\n",
       "      <th>...</th>\n",
       "      <td>...</td>\n",
       "      <td>...</td>\n",
       "      <td>...</td>\n",
       "      <td>...</td>\n",
       "      <td>...</td>\n",
       "      <td>...</td>\n",
       "      <td>...</td>\n",
       "      <td>...</td>\n",
       "      <td>...</td>\n",
       "      <td>...</td>\n",
       "      <td>...</td>\n",
       "      <td>...</td>\n",
       "      <td>...</td>\n",
       "      <td>...</td>\n",
       "      <td>...</td>\n",
       "      <td>...</td>\n",
       "      <td>...</td>\n",
       "      <td>...</td>\n",
       "      <td>...</td>\n",
       "      <td>...</td>\n",
       "      <td>...</td>\n",
       "    </tr>\n",
       "    <tr>\n",
       "      <th>239995</th>\n",
       "      <td>3656.9</td>\n",
       "      <td>4518.7</td>\n",
       "      <td>9.4022</td>\n",
       "      <td>27.070</td>\n",
       "      <td>42.162</td>\n",
       "      <td>75.433</td>\n",
       "      <td>120.42</td>\n",
       "      <td>0.31811</td>\n",
       "      <td>79.724</td>\n",
       "      <td>24.669</td>\n",
       "      <td>...</td>\n",
       "      <td>2.2303</td>\n",
       "      <td>4.6296</td>\n",
       "      <td>2.3208</td>\n",
       "      <td>0.006675</td>\n",
       "      <td>0.84120</td>\n",
       "      <td>0.113470</td>\n",
       "      <td>53.057</td>\n",
       "      <td>43.979</td>\n",
       "      <td>131.098846</td>\n",
       "      <td>1975.097506</td>\n",
       "    </tr>\n",
       "    <tr>\n",
       "      <th>239996</th>\n",
       "      <td>3695.0</td>\n",
       "      <td>4444.9</td>\n",
       "      <td>9.3209</td>\n",
       "      <td>27.041</td>\n",
       "      <td>42.506</td>\n",
       "      <td>75.198</td>\n",
       "      <td>120.42</td>\n",
       "      <td>0.32296</td>\n",
       "      <td>80.330</td>\n",
       "      <td>26.955</td>\n",
       "      <td>...</td>\n",
       "      <td>2.2977</td>\n",
       "      <td>4.9157</td>\n",
       "      <td>2.2714</td>\n",
       "      <td>0.026402</td>\n",
       "      <td>0.84725</td>\n",
       "      <td>0.101760</td>\n",
       "      <td>54.185</td>\n",
       "      <td>43.592</td>\n",
       "      <td>131.041962</td>\n",
       "      <td>1975.106542</td>\n",
       "    </tr>\n",
       "    <tr>\n",
       "      <th>239997</th>\n",
       "      <td>3703.0</td>\n",
       "      <td>4569.6</td>\n",
       "      <td>9.3275</td>\n",
       "      <td>27.103</td>\n",
       "      <td>42.391</td>\n",
       "      <td>75.039</td>\n",
       "      <td>120.43</td>\n",
       "      <td>0.34619</td>\n",
       "      <td>80.056</td>\n",
       "      <td>24.436</td>\n",
       "      <td>...</td>\n",
       "      <td>2.2593</td>\n",
       "      <td>4.7596</td>\n",
       "      <td>2.3007</td>\n",
       "      <td>0.026916</td>\n",
       "      <td>0.80354</td>\n",
       "      <td>0.105230</td>\n",
       "      <td>54.085</td>\n",
       "      <td>45.132</td>\n",
       "      <td>131.163577</td>\n",
       "      <td>1975.096585</td>\n",
       "    </tr>\n",
       "    <tr>\n",
       "      <th>239998</th>\n",
       "      <td>3658.7</td>\n",
       "      <td>4555.6</td>\n",
       "      <td>9.4720</td>\n",
       "      <td>27.396</td>\n",
       "      <td>42.545</td>\n",
       "      <td>74.994</td>\n",
       "      <td>120.41</td>\n",
       "      <td>0.33453</td>\n",
       "      <td>80.047</td>\n",
       "      <td>24.792</td>\n",
       "      <td>...</td>\n",
       "      <td>2.2492</td>\n",
       "      <td>4.7565</td>\n",
       "      <td>2.3150</td>\n",
       "      <td>-0.004883</td>\n",
       "      <td>0.80587</td>\n",
       "      <td>0.090023</td>\n",
       "      <td>53.313</td>\n",
       "      <td>43.108</td>\n",
       "      <td>131.738308</td>\n",
       "      <td>1975.097992</td>\n",
       "    </tr>\n",
       "    <tr>\n",
       "      <th>239999</th>\n",
       "      <td>3607.5</td>\n",
       "      <td>4507.0</td>\n",
       "      <td>9.3117</td>\n",
       "      <td>26.991</td>\n",
       "      <td>42.461</td>\n",
       "      <td>75.651</td>\n",
       "      <td>120.39</td>\n",
       "      <td>0.32457</td>\n",
       "      <td>80.328</td>\n",
       "      <td>25.310</td>\n",
       "      <td>...</td>\n",
       "      <td>2.2238</td>\n",
       "      <td>4.8310</td>\n",
       "      <td>2.2789</td>\n",
       "      <td>0.022487</td>\n",
       "      <td>0.83528</td>\n",
       "      <td>0.106210</td>\n",
       "      <td>53.974</td>\n",
       "      <td>43.075</td>\n",
       "      <td>130.943885</td>\n",
       "      <td>1975.100040</td>\n",
       "    </tr>\n",
       "  </tbody>\n",
       "</table>\n",
       "<p>240000 rows × 33 columns</p>\n",
       "</div>"
      ],
      "text/plain": [
       "        Condition No. 1  Condition No. 2  Condition No. 3  Condition No. 4  \\\n",
       "0                3633.0           4491.6           9.3233           27.020   \n",
       "1                3654.7           4526.4           9.2720           26.838   \n",
       "2                3655.9           4468.3           9.3669           26.702   \n",
       "3                3689.9           4532.0           9.4211           26.918   \n",
       "4                3687.9           4494.1           9.5047           26.565   \n",
       "...                 ...              ...              ...              ...   \n",
       "239995           3656.9           4518.7           9.4022           27.070   \n",
       "239996           3695.0           4444.9           9.3209           27.041   \n",
       "239997           3703.0           4569.6           9.3275           27.103   \n",
       "239998           3658.7           4555.6           9.4720           27.396   \n",
       "239999           3607.5           4507.0           9.3117           26.991   \n",
       "\n",
       "        Condition No. 5  Condition No. 6  Condition No. 7  Condition No. 8  \\\n",
       "0                42.401           74.366           120.42          0.34398   \n",
       "1                42.280           75.423           120.40          0.34092   \n",
       "2                41.850           75.461           120.40          0.36692   \n",
       "3                42.311           73.959           120.41          0.34800   \n",
       "4                42.208           75.249           120.40          0.34721   \n",
       "...                 ...              ...              ...              ...   \n",
       "239995           42.162           75.433           120.42          0.31811   \n",
       "239996           42.506           75.198           120.42          0.32296   \n",
       "239997           42.391           75.039           120.43          0.34619   \n",
       "239998           42.545           74.994           120.41          0.33453   \n",
       "239999           42.461           75.651           120.39          0.32457   \n",
       "\n",
       "        Condition No. 9  Condition No. 10  ...  Condition No. 24  \\\n",
       "0                80.054            26.191  ...            2.2794   \n",
       "1                79.798            25.120  ...            2.2798   \n",
       "2                80.222            23.749  ...            2.2694   \n",
       "3                80.085            25.954  ...            2.2522   \n",
       "4                80.130            25.739  ...            2.2967   \n",
       "...                 ...               ...  ...               ...   \n",
       "239995           79.724            24.669  ...            2.2303   \n",
       "239996           80.330            26.955  ...            2.2977   \n",
       "239997           80.056            24.436  ...            2.2593   \n",
       "239998           80.047            24.792  ...            2.2492   \n",
       "239999           80.328            25.310  ...            2.2238   \n",
       "\n",
       "        Condition No. 25  Condition No. 26  Condition No. 27  \\\n",
       "0                 4.8459            2.3389         -0.002351   \n",
       "1                 4.8528            2.2791          0.003044   \n",
       "2                 4.7115            2.2466          0.024026   \n",
       "3                 4.8880            2.3085          0.027168   \n",
       "4                 4.9020            2.2538          0.016510   \n",
       "...                  ...               ...               ...   \n",
       "239995            4.6296            2.3208          0.006675   \n",
       "239996            4.9157            2.2714          0.026402   \n",
       "239997            4.7596            2.3007          0.026916   \n",
       "239998            4.7565            2.3150         -0.004883   \n",
       "239999            4.8310            2.2789          0.022487   \n",
       "\n",
       "        Condition No. 28  Condition No. 29  Condition No. 37  \\\n",
       "0                0.85592          0.092412            53.696   \n",
       "1                0.83471          0.117330            54.647   \n",
       "2                0.81435          0.099781            53.348   \n",
       "3                0.83669          0.092316            53.861   \n",
       "4                0.80269          0.101690            53.474   \n",
       "...                  ...               ...               ...   \n",
       "239995           0.84120          0.113470            53.057   \n",
       "239996           0.84725          0.101760            54.185   \n",
       "239997           0.80354          0.105230            54.085   \n",
       "239998           0.80587          0.090023            53.313   \n",
       "239999           0.83528          0.106210            53.974   \n",
       "\n",
       "        Condition No. 35  Condition No. 41  Condition No. 42  \n",
       "0                 43.342        131.000769       1975.103522  \n",
       "1                 43.590        130.643769       1975.099289  \n",
       "2                 44.683        130.377000       1975.093870  \n",
       "3                 43.891        130.800692       1975.102585  \n",
       "4                 43.455        130.108269       1975.101735  \n",
       "...                  ...               ...               ...  \n",
       "239995            43.979        131.098846       1975.097506  \n",
       "239996            43.592        131.041962       1975.106542  \n",
       "239997            45.132        131.163577       1975.096585  \n",
       "239998            43.108        131.738308       1975.097992  \n",
       "239999            43.075        130.943885       1975.100040  \n",
       "\n",
       "[240000 rows x 33 columns]"
      ]
     },
     "execution_count": 14,
     "metadata": {},
     "output_type": "execute_result"
    }
   ],
   "source": [
    "evaluation_data=pandas.read_csv(\"Evaluation Dataset.csv\")\n",
    "evaluation_data"
   ]
  },
  {
   "cell_type": "code",
   "execution_count": 30,
   "id": "9fd3317a",
   "metadata": {},
   "outputs": [],
   "source": [
    "x_train, x_test, y_train, y_test = train_test_split(x, y, test_size=0.0000001)"
   ]
  },
  {
   "cell_type": "code",
   "execution_count": 32,
   "id": "604bdcad",
   "metadata": {},
   "outputs": [
    {
     "name": "stderr",
     "output_type": "stream",
     "text": [
      "C:\\Anaconda\\anaconda3\\lib\\site-packages\\sklearn\\base.py:443: UserWarning: X has feature names, but ExtraTreesRegressor was fitted without feature names\n",
      "  warnings.warn(\n"
     ]
    }
   ],
   "source": [
    "y_predict=etr_model.predict(evaluation_data)\n"
   ]
  },
  {
   "cell_type": "code",
   "execution_count": 33,
   "id": "55530b1e",
   "metadata": {},
   "outputs": [],
   "source": [
    "pandas.DataFrame(y_predict).to_csv('esr_all_data_final.csv')"
   ]
  },
  {
   "cell_type": "code",
   "execution_count": null,
   "id": "a51bde11",
   "metadata": {},
   "outputs": [],
   "source": []
  }
 ],
 "metadata": {
  "kernelspec": {
   "display_name": "Python 3",
   "language": "python",
   "name": "python3"
  },
  "language_info": {
   "codemirror_mode": {
    "name": "ipython",
    "version": 3
   },
   "file_extension": ".py",
   "mimetype": "text/x-python",
   "name": "python",
   "nbconvert_exporter": "python",
   "pygments_lexer": "ipython3",
   "version": "3.8.8"
  }
 },
 "nbformat": 4,
 "nbformat_minor": 5
}
